{
  "nbformat": 4,
  "nbformat_minor": 0,
  "metadata": {
    "colab": {
      "name": "Thinkful- Choc_bar_review",
      "provenance": [],
      "collapsed_sections": [],
      "authorship_tag": "ABX9TyNIvtzE0cKKb0AIz0R2NtF/",
      "include_colab_link": true
    },
    "kernelspec": {
      "name": "python3",
      "display_name": "Python 3"
    },
    "language_info": {
      "name": "python"
    }
  },
  "cells": [
    {
      "cell_type": "markdown",
      "metadata": {
        "id": "view-in-github",
        "colab_type": "text"
      },
      "source": [
        "<a href=\"https://colab.research.google.com/github/gnmuller/Thinkful/blob/main/Thinkful_Choc_bar_review.ipynb\" target=\"_parent\"><img src=\"https://colab.research.google.com/assets/colab-badge.svg\" alt=\"Open In Colab\"/></a>"
      ]
    },
    {
      "cell_type": "markdown",
      "metadata": {
        "id": "ck_FSYmb3Pda"
      },
      "source": [
        "# Chocolate Bar Review Analysis Introduction\n",
        "\n",
        "\n",
        "\n"
      ]
    },
    {
      "cell_type": "markdown",
      "metadata": {
        "id": "3l653NXV75zr"
      },
      "source": [
        "##What makes a good chocolate bar? \n",
        "This is an analysis of seventeen-hundred and thirty-eight expert reviews of chocolate bars. The data ingested from Kaggle. ([Link](https://colab.research.google.com/drive/1XGKP6OCJdu2UjRuRJJGLoSS-QgSRMzDo#scrollTo=3l653NXV75zr&line=2&uniqifier=1)) Where each bar of cacao rated on a scale of 1 to 5 and was plain dark chocolate. (5: Elite, 4:Premium, 3:Satisfactory, 2:Disappointing, 1: Unpleasant) \n",
        "##How does the bar get made?\n",
        "The purpose of this analysis is to find what makes a bar get a higher score. This Jupyter notebook will follow the same process as a cocoa bean. Starting with the beans themselves. We will then move to the regions in which they were grown. How much cocoa used in the bean, and finally where the bar manufactured is where we will end. At each point along the way searching for clear statistical proof.\n",
        "\n",
        "\n",
        "\n",
        "\n",
        "\n"
      ]
    },
    {
      "cell_type": "markdown",
      "metadata": {
        "id": "7K4CdbvNBSAq"
      },
      "source": [
        "# Notebook Set-up\n",
        "\n",
        "---\n",
        "\n"
      ]
    },
    {
      "cell_type": "markdown",
      "metadata": {
        "id": "bQpUCJDgCRBy"
      },
      "source": [
        "Importing libraries needed to conduct analysis of data.\n",
        "\n"
      ]
    },
    {
      "cell_type": "code",
      "metadata": {
        "id": "4tAtc5-wfpCa"
      },
      "source": [
        "import math \n",
        "import pandas as pd\n",
        "from scipy import stats\n",
        "import seaborn as sns \n",
        "import matplotlib.pyplot as plt\n",
        "import plotly.express as px\n",
        "\n",
        "sns.set()"
      ],
      "execution_count": 3,
      "outputs": []
    },
    {
      "cell_type": "markdown",
      "metadata": {
        "id": "8N_od-UnA6ey"
      },
      "source": [
        " \n",
        "\n",
        " \n",
        "Creating a connection to Google Drive account with stored Kaggle file.  \n",
        " \n",
        "\n"
      ]
    },
    {
      "cell_type": "code",
      "metadata": {
        "id": "Y_rikTTqOgku",
        "colab": {
          "base_uri": "https://localhost:8080/"
        },
        "outputId": "93a3a95f-89dc-4002-aab3-9157c174e003"
      },
      "source": [
        "from google.colab import drive\n",
        "drive.mount('/content/gdrive')"
      ],
      "execution_count": 4,
      "outputs": [
        {
          "output_type": "stream",
          "text": [
            "Mounted at /content/gdrive\n"
          ],
          "name": "stdout"
        }
      ]
    },
    {
      "cell_type": "code",
      "metadata": {
        "id": "jH9p1PVD0PZ5"
      },
      "source": [
        "choc_review_df = pd.read_csv('/content/gdrive/My Drive/Thinkful/flavors_of_cacao.csv')"
      ],
      "execution_count": 5,
      "outputs": []
    },
    {
      "cell_type": "markdown",
      "metadata": {
        "id": "PoDP9xO9CnUq"
      },
      "source": [
        "Checking for the successful import of data."
      ]
    },
    {
      "cell_type": "code",
      "metadata": {
        "id": "WHPuyWYcBsSE",
        "colab": {
          "base_uri": "https://localhost:8080/",
          "height": 204
        },
        "outputId": "1b82c44e-5f40-45ee-b0ce-84f4b9e1ca64"
      },
      "source": [
        "choc_review_df.head()"
      ],
      "execution_count": 6,
      "outputs": [
        {
          "output_type": "execute_result",
          "data": {
            "text/html": [
              "<div>\n",
              "<style scoped>\n",
              "    .dataframe tbody tr th:only-of-type {\n",
              "        vertical-align: middle;\n",
              "    }\n",
              "\n",
              "    .dataframe tbody tr th {\n",
              "        vertical-align: top;\n",
              "    }\n",
              "\n",
              "    .dataframe thead th {\n",
              "        text-align: right;\n",
              "    }\n",
              "</style>\n",
              "<table border=\"1\" class=\"dataframe\">\n",
              "  <thead>\n",
              "    <tr style=\"text-align: right;\">\n",
              "      <th></th>\n",
              "      <th>Company \\n(Maker-if known)</th>\n",
              "      <th>Specific Bean Origin\\nor Bar Name</th>\n",
              "      <th>REF</th>\n",
              "      <th>Review\\nDate</th>\n",
              "      <th>Cocoa\\nPercent</th>\n",
              "      <th>Company\\nLocation</th>\n",
              "      <th>Rating</th>\n",
              "      <th>Bean\\nType</th>\n",
              "      <th>Broad Bean\\nOrigin</th>\n",
              "    </tr>\n",
              "  </thead>\n",
              "  <tbody>\n",
              "    <tr>\n",
              "      <th>0</th>\n",
              "      <td>A. Morin</td>\n",
              "      <td>Agua Grande</td>\n",
              "      <td>1876</td>\n",
              "      <td>2016</td>\n",
              "      <td>63%</td>\n",
              "      <td>France</td>\n",
              "      <td>3.75</td>\n",
              "      <td></td>\n",
              "      <td>Sao Tome</td>\n",
              "    </tr>\n",
              "    <tr>\n",
              "      <th>1</th>\n",
              "      <td>A. Morin</td>\n",
              "      <td>Kpime</td>\n",
              "      <td>1676</td>\n",
              "      <td>2015</td>\n",
              "      <td>70%</td>\n",
              "      <td>France</td>\n",
              "      <td>2.75</td>\n",
              "      <td></td>\n",
              "      <td>Togo</td>\n",
              "    </tr>\n",
              "    <tr>\n",
              "      <th>2</th>\n",
              "      <td>A. Morin</td>\n",
              "      <td>Atsane</td>\n",
              "      <td>1676</td>\n",
              "      <td>2015</td>\n",
              "      <td>70%</td>\n",
              "      <td>France</td>\n",
              "      <td>3.00</td>\n",
              "      <td></td>\n",
              "      <td>Togo</td>\n",
              "    </tr>\n",
              "    <tr>\n",
              "      <th>3</th>\n",
              "      <td>A. Morin</td>\n",
              "      <td>Akata</td>\n",
              "      <td>1680</td>\n",
              "      <td>2015</td>\n",
              "      <td>70%</td>\n",
              "      <td>France</td>\n",
              "      <td>3.50</td>\n",
              "      <td></td>\n",
              "      <td>Togo</td>\n",
              "    </tr>\n",
              "    <tr>\n",
              "      <th>4</th>\n",
              "      <td>A. Morin</td>\n",
              "      <td>Quilla</td>\n",
              "      <td>1704</td>\n",
              "      <td>2015</td>\n",
              "      <td>70%</td>\n",
              "      <td>France</td>\n",
              "      <td>3.50</td>\n",
              "      <td></td>\n",
              "      <td>Peru</td>\n",
              "    </tr>\n",
              "  </tbody>\n",
              "</table>\n",
              "</div>"
            ],
            "text/plain": [
              "  Company \\n(Maker-if known)  ... Broad Bean\\nOrigin\n",
              "0                   A. Morin  ...           Sao Tome\n",
              "1                   A. Morin  ...               Togo\n",
              "2                   A. Morin  ...               Togo\n",
              "3                   A. Morin  ...               Togo\n",
              "4                   A. Morin  ...               Peru\n",
              "\n",
              "[5 rows x 9 columns]"
            ]
          },
          "metadata": {
            "tags": []
          },
          "execution_count": 6
        }
      ]
    },
    {
      "cell_type": "markdown",
      "metadata": {
        "id": "dWQAyeX5Bgmd"
      },
      "source": [
        "Renaming complicated column names to elementary values"
      ]
    },
    {
      "cell_type": "code",
      "metadata": {
        "id": "0dEGvtcyK2dT",
        "colab": {
          "base_uri": "https://localhost:8080/",
          "height": 204
        },
        "outputId": "df529725-5017-4ebd-84ab-4ec22820fe00"
      },
      "source": [
        "choc_review_df.columns = ['company', 'bean_origin',\n",
        "       'review_n', 'review_year', 'cocoa_perc', 'company_location', 'rating',\n",
        "       'bean_type', 'bean_origin_c']\n",
        "choc_review_df.head()"
      ],
      "execution_count": 7,
      "outputs": [
        {
          "output_type": "execute_result",
          "data": {
            "text/html": [
              "<div>\n",
              "<style scoped>\n",
              "    .dataframe tbody tr th:only-of-type {\n",
              "        vertical-align: middle;\n",
              "    }\n",
              "\n",
              "    .dataframe tbody tr th {\n",
              "        vertical-align: top;\n",
              "    }\n",
              "\n",
              "    .dataframe thead th {\n",
              "        text-align: right;\n",
              "    }\n",
              "</style>\n",
              "<table border=\"1\" class=\"dataframe\">\n",
              "  <thead>\n",
              "    <tr style=\"text-align: right;\">\n",
              "      <th></th>\n",
              "      <th>company</th>\n",
              "      <th>bean_origin</th>\n",
              "      <th>review_n</th>\n",
              "      <th>review_year</th>\n",
              "      <th>cocoa_perc</th>\n",
              "      <th>company_location</th>\n",
              "      <th>rating</th>\n",
              "      <th>bean_type</th>\n",
              "      <th>bean_origin_c</th>\n",
              "    </tr>\n",
              "  </thead>\n",
              "  <tbody>\n",
              "    <tr>\n",
              "      <th>0</th>\n",
              "      <td>A. Morin</td>\n",
              "      <td>Agua Grande</td>\n",
              "      <td>1876</td>\n",
              "      <td>2016</td>\n",
              "      <td>63%</td>\n",
              "      <td>France</td>\n",
              "      <td>3.75</td>\n",
              "      <td></td>\n",
              "      <td>Sao Tome</td>\n",
              "    </tr>\n",
              "    <tr>\n",
              "      <th>1</th>\n",
              "      <td>A. Morin</td>\n",
              "      <td>Kpime</td>\n",
              "      <td>1676</td>\n",
              "      <td>2015</td>\n",
              "      <td>70%</td>\n",
              "      <td>France</td>\n",
              "      <td>2.75</td>\n",
              "      <td></td>\n",
              "      <td>Togo</td>\n",
              "    </tr>\n",
              "    <tr>\n",
              "      <th>2</th>\n",
              "      <td>A. Morin</td>\n",
              "      <td>Atsane</td>\n",
              "      <td>1676</td>\n",
              "      <td>2015</td>\n",
              "      <td>70%</td>\n",
              "      <td>France</td>\n",
              "      <td>3.00</td>\n",
              "      <td></td>\n",
              "      <td>Togo</td>\n",
              "    </tr>\n",
              "    <tr>\n",
              "      <th>3</th>\n",
              "      <td>A. Morin</td>\n",
              "      <td>Akata</td>\n",
              "      <td>1680</td>\n",
              "      <td>2015</td>\n",
              "      <td>70%</td>\n",
              "      <td>France</td>\n",
              "      <td>3.50</td>\n",
              "      <td></td>\n",
              "      <td>Togo</td>\n",
              "    </tr>\n",
              "    <tr>\n",
              "      <th>4</th>\n",
              "      <td>A. Morin</td>\n",
              "      <td>Quilla</td>\n",
              "      <td>1704</td>\n",
              "      <td>2015</td>\n",
              "      <td>70%</td>\n",
              "      <td>France</td>\n",
              "      <td>3.50</td>\n",
              "      <td></td>\n",
              "      <td>Peru</td>\n",
              "    </tr>\n",
              "  </tbody>\n",
              "</table>\n",
              "</div>"
            ],
            "text/plain": [
              "    company  bean_origin  review_n  ...  rating bean_type bean_origin_c\n",
              "0  A. Morin  Agua Grande      1876  ...    3.75                Sao Tome\n",
              "1  A. Morin        Kpime      1676  ...    2.75                    Togo\n",
              "2  A. Morin       Atsane      1676  ...    3.00                    Togo\n",
              "3  A. Morin        Akata      1680  ...    3.50                    Togo\n",
              "4  A. Morin       Quilla      1704  ...    3.50                    Peru\n",
              "\n",
              "[5 rows x 9 columns]"
            ]
          },
          "metadata": {
            "tags": []
          },
          "execution_count": 7
        }
      ]
    },
    {
      "cell_type": "markdown",
      "metadata": {
        "id": "lxpZ5HEpDIKc"
      },
      "source": [
        "Converting the amount of cocoa in each bar to a number for calculations later on in the notebook."
      ]
    },
    {
      "cell_type": "code",
      "metadata": {
        "id": "g4paBC0HDrRB",
        "colab": {
          "base_uri": "https://localhost:8080/",
          "height": 204
        },
        "outputId": "27eef221-91f1-42ef-b577-4a036ccb1315"
      },
      "source": [
        "choc_review_df[\"cocoa_perc\"]= choc_review_df[\"cocoa_perc\"].str.replace('%', '').astype(float)/100\n",
        "choc_review_df.head()"
      ],
      "execution_count": 8,
      "outputs": [
        {
          "output_type": "execute_result",
          "data": {
            "text/html": [
              "<div>\n",
              "<style scoped>\n",
              "    .dataframe tbody tr th:only-of-type {\n",
              "        vertical-align: middle;\n",
              "    }\n",
              "\n",
              "    .dataframe tbody tr th {\n",
              "        vertical-align: top;\n",
              "    }\n",
              "\n",
              "    .dataframe thead th {\n",
              "        text-align: right;\n",
              "    }\n",
              "</style>\n",
              "<table border=\"1\" class=\"dataframe\">\n",
              "  <thead>\n",
              "    <tr style=\"text-align: right;\">\n",
              "      <th></th>\n",
              "      <th>company</th>\n",
              "      <th>bean_origin</th>\n",
              "      <th>review_n</th>\n",
              "      <th>review_year</th>\n",
              "      <th>cocoa_perc</th>\n",
              "      <th>company_location</th>\n",
              "      <th>rating</th>\n",
              "      <th>bean_type</th>\n",
              "      <th>bean_origin_c</th>\n",
              "    </tr>\n",
              "  </thead>\n",
              "  <tbody>\n",
              "    <tr>\n",
              "      <th>0</th>\n",
              "      <td>A. Morin</td>\n",
              "      <td>Agua Grande</td>\n",
              "      <td>1876</td>\n",
              "      <td>2016</td>\n",
              "      <td>0.63</td>\n",
              "      <td>France</td>\n",
              "      <td>3.75</td>\n",
              "      <td></td>\n",
              "      <td>Sao Tome</td>\n",
              "    </tr>\n",
              "    <tr>\n",
              "      <th>1</th>\n",
              "      <td>A. Morin</td>\n",
              "      <td>Kpime</td>\n",
              "      <td>1676</td>\n",
              "      <td>2015</td>\n",
              "      <td>0.70</td>\n",
              "      <td>France</td>\n",
              "      <td>2.75</td>\n",
              "      <td></td>\n",
              "      <td>Togo</td>\n",
              "    </tr>\n",
              "    <tr>\n",
              "      <th>2</th>\n",
              "      <td>A. Morin</td>\n",
              "      <td>Atsane</td>\n",
              "      <td>1676</td>\n",
              "      <td>2015</td>\n",
              "      <td>0.70</td>\n",
              "      <td>France</td>\n",
              "      <td>3.00</td>\n",
              "      <td></td>\n",
              "      <td>Togo</td>\n",
              "    </tr>\n",
              "    <tr>\n",
              "      <th>3</th>\n",
              "      <td>A. Morin</td>\n",
              "      <td>Akata</td>\n",
              "      <td>1680</td>\n",
              "      <td>2015</td>\n",
              "      <td>0.70</td>\n",
              "      <td>France</td>\n",
              "      <td>3.50</td>\n",
              "      <td></td>\n",
              "      <td>Togo</td>\n",
              "    </tr>\n",
              "    <tr>\n",
              "      <th>4</th>\n",
              "      <td>A. Morin</td>\n",
              "      <td>Quilla</td>\n",
              "      <td>1704</td>\n",
              "      <td>2015</td>\n",
              "      <td>0.70</td>\n",
              "      <td>France</td>\n",
              "      <td>3.50</td>\n",
              "      <td></td>\n",
              "      <td>Peru</td>\n",
              "    </tr>\n",
              "  </tbody>\n",
              "</table>\n",
              "</div>"
            ],
            "text/plain": [
              "    company  bean_origin  review_n  ...  rating  bean_type bean_origin_c\n",
              "0  A. Morin  Agua Grande      1876  ...    3.75                 Sao Tome\n",
              "1  A. Morin        Kpime      1676  ...    2.75                     Togo\n",
              "2  A. Morin       Atsane      1676  ...    3.00                     Togo\n",
              "3  A. Morin        Akata      1680  ...    3.50                     Togo\n",
              "4  A. Morin       Quilla      1704  ...    3.50                     Peru\n",
              "\n",
              "[5 rows x 9 columns]"
            ]
          },
          "metadata": {
            "tags": []
          },
          "execution_count": 8
        }
      ]
    },
    {
      "cell_type": "markdown",
      "metadata": {
        "id": "BukSn3Pnz6si"
      },
      "source": [
        "# Bean Types\n",
        "\n"
      ]
    },
    {
      "cell_type": "markdown",
      "metadata": {
        "id": "RAAe7aeME3w8"
      },
      "source": [
        "## Exploring the dataset for the cocoa beans planted that will one day end up in the chocolate bar"
      ]
    },
    {
      "cell_type": "code",
      "metadata": {
        "colab": {
          "base_uri": "https://localhost:8080/"
        },
        "id": "_fqyrpGz0aA9",
        "outputId": "fde7a342-885d-4d64-b807-f8ce4daa3d2e"
      },
      "source": [
        "print(\"Every bar in the data set uses one of the \" + str(choc_review_df['bean_type'].nunique()) + \" different types of cocoa beans.\")"
      ],
      "execution_count": 9,
      "outputs": [
        {
          "output_type": "stream",
          "text": [
            "Every bar in the data set uses one of the 41 different types of cocoa beans.\n"
          ],
          "name": "stdout"
        }
      ]
    },
    {
      "cell_type": "markdown",
      "metadata": {
        "id": "Pk5CoK66cFRt"
      },
      "source": [
        "### Discovering the most popular bean's used in the dataset"
      ]
    },
    {
      "cell_type": "code",
      "metadata": {
        "colab": {
          "base_uri": "https://localhost:8080/"
        },
        "id": "17Nduf__0Gsl",
        "outputId": "0c0e359a-3dd0-401d-c245-a851ff765f96"
      },
      "source": [
        "print(\"The top five most used cocoa beans are: \\n\" + str(choc_review_df['bean_type'].value_counts().head(5)))"
      ],
      "execution_count": 10,
      "outputs": [
        {
          "output_type": "stream",
          "text": [
            "The top five most used cocoa beans are: \n",
            "                        887\n",
            "Trinitario              419\n",
            "Criollo                 153\n",
            "Forastero                87\n",
            "Forastero (Nacional)     52\n",
            "Name: bean_type, dtype: int64\n"
          ],
          "name": "stdout"
        }
      ]
    },
    {
      "cell_type": "markdown",
      "metadata": {
        "id": "IUzFMFxzcxtT"
      },
      "source": [
        "## Filtering datasets using only the most popular bean. Which is the *Trinitario*, to discover any effect on the rating score. \n"
      ]
    },
    {
      "cell_type": "code",
      "metadata": {
        "id": "zkSYDtd-z-5P"
      },
      "source": [
        "trinitario_df = choc_review_df.loc[choc_review_df[\"bean_type\"]== \"Trinitario\"]\n",
        "n_trinitario_df = choc_review_df.loc[choc_review_df[\"bean_type\"] != \"Trinitario\"]"
      ],
      "execution_count": 11,
      "outputs": []
    },
    {
      "cell_type": "code",
      "metadata": {
        "colab": {
          "base_uri": "https://localhost:8080/",
          "height": 35
        },
        "id": "OgCY_Ao65CSV",
        "outputId": "ca8e987e-5f5b-4549-9cba-868bc0d80b7c"
      },
      "source": [
        "#Finding blank values\n",
        "n_trinitario_df[\"bean_type\"][0]"
      ],
      "execution_count": 12,
      "outputs": [
        {
          "output_type": "execute_result",
          "data": {
            "application/vnd.google.colaboratory.intrinsic+json": {
              "type": "string"
            },
            "text/plain": [
              "'\\xa0'"
            ]
          },
          "metadata": {
            "tags": []
          },
          "execution_count": 12
        }
      ]
    },
    {
      "cell_type": "code",
      "metadata": {
        "id": "QffmbAoV5dnY"
      },
      "source": [
        "n_trinitario_df = choc_review_df.loc[choc_review_df[\"bean_type\"] != \" \"]"
      ],
      "execution_count": 35,
      "outputs": []
    },
    {
      "cell_type": "code",
      "metadata": {
        "id": "DLk71Y2h0-7y",
        "colab": {
          "base_uri": "https://localhost:8080/"
        },
        "outputId": "a8b8835c-740f-4bd3-ec82-bcb55c274851"
      },
      "source": [
        "trinitario_df.info()\n",
        "n_trinitario_df.info()"
      ],
      "execution_count": 39,
      "outputs": [
        {
          "output_type": "stream",
          "text": [
            "<class 'pandas.core.frame.DataFrame'>\n",
            "Int64Index: 419 entries, 17 to 1776\n",
            "Data columns (total 9 columns):\n",
            " #   Column            Non-Null Count  Dtype  \n",
            "---  ------            --------------  -----  \n",
            " 0   company           419 non-null    object \n",
            " 1   bean_origin       419 non-null    object \n",
            " 2   review_n          419 non-null    int64  \n",
            " 3   review_year       419 non-null    int64  \n",
            " 4   cocoa_perc        419 non-null    float64\n",
            " 5   company_location  419 non-null    object \n",
            " 6   rating            419 non-null    float64\n",
            " 7   bean_type         419 non-null    object \n",
            " 8   bean_origin_c     418 non-null    object \n",
            "dtypes: float64(2), int64(2), object(5)\n",
            "memory usage: 32.7+ KB\n",
            "<class 'pandas.core.frame.DataFrame'>\n",
            "Int64Index: 908 entries, 5 to 1792\n",
            "Data columns (total 9 columns):\n",
            " #   Column            Non-Null Count  Dtype  \n",
            "---  ------            --------------  -----  \n",
            " 0   company           908 non-null    object \n",
            " 1   bean_origin       908 non-null    object \n",
            " 2   review_n          908 non-null    int64  \n",
            " 3   review_year       908 non-null    int64  \n",
            " 4   cocoa_perc        908 non-null    float64\n",
            " 5   company_location  908 non-null    object \n",
            " 6   rating            908 non-null    float64\n",
            " 7   bean_type         907 non-null    object \n",
            " 8   bean_origin_c     907 non-null    object \n",
            "dtypes: float64(2), int64(2), object(5)\n",
            "memory usage: 70.9+ KB\n"
          ],
          "name": "stdout"
        }
      ]
    },
    {
      "cell_type": "code",
      "metadata": {
        "colab": {
          "base_uri": "https://localhost:8080/"
        },
        "id": "OM7PXluH1FDF",
        "outputId": "5cb2165a-7268-4375-9914-a1b188247d81"
      },
      "source": [
        "stats.ttest_ind(trinitario_df[\"rating\"], n_trinitario_df[\"rating\"])"
      ],
      "execution_count": 37,
      "outputs": [
        {
          "output_type": "execute_result",
          "data": {
            "text/plain": [
              "Ttest_indResult(statistic=0.47039522723351795, pvalue=0.6381500913496303)"
            ]
          },
          "metadata": {
            "tags": []
          },
          "execution_count": 37
        }
      ]
    },
    {
      "cell_type": "markdown",
      "metadata": {
        "id": "wOadYlDLdPij"
      },
      "source": [
        " The analysis shows a **insignificant difference** in the bars."
      ]
    },
    {
      "cell_type": "code",
      "metadata": {
        "colab": {
          "base_uri": "https://localhost:8080/",
          "height": 392
        },
        "id": "hJ12VlDA3ut_",
        "outputId": "0cf968d6-70f4-4354-ad71-f42624322198"
      },
      "source": [
        "palette = sns.color_palette(\"bright\")\n",
        "sns.set_palette(palette)\n",
        "fig, axes = plt.subplots(1,2, figsize = (15,5), sharey= True, sharex= True)\n",
        "fig.suptitle('Ratings of Bars Based on Bean Type')\n",
        "#ax.xaxis.set_minor_locator(AutoMinorLocator(10))\n",
        "sns.set_style(\"whitegrid\", {'axes.grid' : False})\n",
        "\n",
        "\n",
        "sns.histplot(ax=axes[0], x= trinitario_df[\"rating\"]).set_title(\"Trinitario Cocoa\")\n",
        "sns.histplot(ax=axes[1], x= n_trinitario_df[\"rating\"]).set_title(\"Other Cocoa Beans\")\n",
        "\n",
        "#lowest score is a 4.0"
      ],
      "execution_count": 38,
      "outputs": [
        {
          "output_type": "execute_result",
          "data": {
            "text/plain": [
              "Text(0.5, 1.0, 'Other Cocoa Beans')"
            ]
          },
          "metadata": {
            "tags": []
          },
          "execution_count": 38
        },
        {
          "output_type": "display_data",
          "data": {
            "image/png": "[encoded data removed]",
            "text/plain": [
              "<Figure size 1080x360 with 2 Axes>"
            ]
          },
          "metadata": {
            "tags": []
          }
        }
      ]
    },
    {
      "cell_type": "markdown",
      "metadata": {
        "id": "hbRI8CPqgW-C"
      },
      "source": [
        "## The Trinitario bean reaches the same high as the other beans at 4.0, but does not fall below 2.5."
      ]
    },
    {
      "cell_type": "markdown",
      "metadata": {
        "id": "Q0oeO1x7EGak"
      },
      "source": [
        "# Regions"
      ]
    },
    {
      "cell_type": "markdown",
      "metadata": {
        "id": "X--UZ2ZfhOpf"
      },
      "source": [
        "Cocoa beans plant anywhere, but are a tropical plant. For instance the *Trinitario* bean plants in thirty-five different countries in our dataset! Dominated by the North and South American Countries, including the Caribbean. \n",
        "\n",
        "Below we explore these regions. The one-hundred countries listed in our data split into three separate regions. (Africa, Asia and the Pacific Islands, America and the Caribbean islands)"
      ]
    },
    {
      "cell_type": "code",
      "metadata": {
        "id": "DoIgRUheEFe2",
        "colab": {
          "base_uri": "https://localhost:8080/"
        },
        "outputId": "057561ad-063e-4caa-cd9a-dd922c89fb6e"
      },
      "source": [
        "u_countries = choc_review_df[\"bean_origin_c\"].unique()\n",
        "print(u_countries)"
      ],
      "execution_count": 16,
      "outputs": [
        {
          "output_type": "stream",
          "text": [
            "['Sao Tome' 'Togo' 'Peru' 'Venezuela' 'Cuba' 'Panama' 'Madagascar'\n",
            " 'Brazil' 'Ecuador' 'Colombia' 'Burma' 'Papua New Guinea' 'Bolivia' 'Fiji'\n",
            " 'Mexico' 'Indonesia' 'Trinidad' 'Vietnam' 'Nicaragua' 'Tanzania'\n",
            " 'Dominican Republic' 'Ghana' 'Belize' '\\xa0' 'Jamaica' 'Grenada'\n",
            " 'Guatemala' 'Honduras' 'Costa Rica' 'Domincan Republic' 'Haiti' 'Congo'\n",
            " 'Philippines' 'Malaysia' 'Dominican Rep., Bali'\n",
            " 'Venez,Africa,Brasil,Peru,Mex' 'Gabon' 'Ivory Coast' 'Carribean'\n",
            " 'Sri Lanka' 'Puerto Rico' 'Uganda' 'Martinique' 'Sao Tome & Principe'\n",
            " 'Vanuatu' 'Australia' 'Liberia' 'Ecuador, Costa Rica' 'West Africa'\n",
            " 'Hawaii' 'St. Lucia' 'Cost Rica, Ven' 'Peru, Madagascar'\n",
            " 'Venezuela, Trinidad' 'Trinidad, Tobago' 'Ven, Trinidad, Ecuador'\n",
            " 'South America, Africa' 'India' 'Africa, Carribean, C. Am.' 'Tobago'\n",
            " 'Ven., Indonesia, Ecuad.' 'Trinidad-Tobago' 'Peru, Ecuador, Venezuela'\n",
            " 'Venezuela, Dom. Rep.' 'Colombia, Ecuador' 'Solomon Islands' 'Nigeria'\n",
            " 'Peru, Belize' 'Peru, Mad., Dom. Rep.' nan 'PNG, Vanuatu, Mad'\n",
            " 'El Salvador' 'South America' 'Samoa' 'Ghana, Domin. Rep'\n",
            " 'Trinidad, Ecuador' 'Cameroon' 'Venezuela, Java' 'Venezuela/ Ghana'\n",
            " 'Venezuela, Ghana' 'Indonesia, Ghana' 'Peru(SMartin,Pangoa,nacional)'\n",
            " 'Principe' 'Central and S. America' 'Ven., Trinidad, Mad.'\n",
            " 'Carribean(DR/Jam/Tri)' 'Ghana & Madagascar' 'Ven.,Ecu.,Peru,Nic.'\n",
            " 'Madagascar & Ecuador' 'Guat., D.R., Peru, Mad., PNG' 'Peru, Dom. Rep'\n",
            " 'Dom. Rep., Madagascar' 'Gre., PNG, Haw., Haiti, Mad' 'Mad., Java, PNG'\n",
            " 'Ven, Bolivia, D.R.' 'DR, Ecuador, Peru' 'Suriname' 'Peru, Ecuador'\n",
            " 'Ecuador, Mad., PNG' 'Ghana, Panama, Ecuador' 'Venezuela, Carribean']\n"
          ],
          "name": "stdout"
        }
      ]
    },
    {
      "cell_type": "code",
      "metadata": {
        "id": "C8GgYbU8Es0H"
      },
      "source": [
        "african_countries = ['Sao Tome', 'Togo','Madagascar','Tanzania','Ghana','Gabon','Ivory Coast','Uganda','Sao Tome & Principe','Liberia','West Africa',\n",
        "                     'Africa, Carribean, C. Am.','Nigeria','Ghana, Domin. Rep','Cameroon','Principe','Ghana & Madagascar', 'Madagascar & Ecuador',\n",
        "                     'Mad., Java, PNG','Ghana, Panama, Ecuador','Venezuela, Carribean']\n",
        "american_countries = ['Peru','Venezuela','Cuba','Panama','Brazil','Ecuador','Colombia','Bolivia','Mexico','Nicaragua','Dominican Republic','Belize',\n",
        "                      'Jamaica','Grenada','Dominican Rep., Bali','Carribean','Puerto Rico','Martinique','Hawaii','St. Lucia','Venezuela, Trinidad',\n",
        "                      'Trinidad, Tobago','Ven, Trinidad, Ecuador','Tobago','Trinidad-Tobago','Peru, Ecuador, Venezuela','Venezuela, Dom. Rep.',\n",
        "                      'Colombia, Ecuador','Solomon Islands','Peru, Belize','Peru, Mad., Dom. Rep.','El Salvador','South America','Trinidad, Ecuador',\n",
        "                      'Venezuela, Java','Peru(SMartin,Pangoa,nacional)','Central and S. America','Ven., Trinidad, Mad.', 'Carribean(DR/Jam/Tri)',\n",
        "                      'Ven.,Ecu.,Peru,Nic.','Guat., D.R., Peru, Mad., PNG','Peru, Dom. Rep','Ven, Bolivia, D.R.','DR, Ecuador, Peru','Suriname',\n",
        "                      'Peru, Ecuador','Ecuador, Mad., PNG',]\n",
        "asian_countries = ['Papua New Guinea','Burma','Fiji', 'Indonesia','Trinidad','Vietnam','Philippines','Malaysia','Sri Lanka','Vanuatu','Australia',\n",
        "                   'India','Ven., Indonesia, Ecuad.','Samoa',]"
      ],
      "execution_count": 17,
      "outputs": []
    },
    {
      "cell_type": "code",
      "metadata": {
        "id": "pTVLGAj8jPU6"
      },
      "source": [
        "african_beans_df = choc_review_df[choc_review_df[\"bean_origin_c\"].isin(african_countries)]\n",
        "american_beans_df = choc_review_df[choc_review_df[\"bean_origin_c\"].isin(american_countries)]\n",
        "asian_beans_df = choc_review_df[choc_review_df[\"bean_origin_c\"].isin(asian_countries)]"
      ],
      "execution_count": 18,
      "outputs": []
    },
    {
      "cell_type": "markdown",
      "metadata": {
        "id": "z6Len8E2mHhy"
      },
      "source": [
        "Exclusion's occur in this process. Countries with no clear distinction. Such as 'Venezuela/ Ghana', 'Indonesia, Ghana' and 'Dom. Rep., Madagascar'. The African dataset includes two-hundred and sixty six records. The Asian countries represents one-hundred and sixty five. With the American countries including one-thousand fifty four data points. With all above we will now look for statistical significance using the t-test. "
      ]
    },
    {
      "cell_type": "code",
      "metadata": {
        "id": "a9KUA-zgOkwM",
        "colab": {
          "base_uri": "https://localhost:8080/"
        },
        "outputId": "1fd35123-3ce2-4b63-a9ef-20364a33f6ba"
      },
      "source": [
        "#is african beans going to score higher then american?\n",
        "stats.ttest_ind(african_beans_df[\"rating\"], american_beans_df[\"rating\"])"
      ],
      "execution_count": 19,
      "outputs": [
        {
          "output_type": "execute_result",
          "data": {
            "text/plain": [
              "Ttest_indResult(statistic=-0.36201977480526226, pvalue=0.7173911942267222)"
            ]
          },
          "metadata": {
            "tags": []
          },
          "execution_count": 19
        }
      ]
    },
    {
      "cell_type": "code",
      "metadata": {
        "colab": {
          "base_uri": "https://localhost:8080/"
        },
        "id": "zkf075xG7G5j",
        "outputId": "ed28ff8b-8244-48f1-fe6e-dea49a2f0302"
      },
      "source": [
        "#is african beans going to be different then asian?\n",
        "stats.ttest_ind(african_beans_df[\"rating\"], asian_beans_df[\"rating\"])"
      ],
      "execution_count": 20,
      "outputs": [
        {
          "output_type": "execute_result",
          "data": {
            "text/plain": [
              "Ttest_indResult(statistic=-1.3896040156167744, pvalue=0.16536988341500417)"
            ]
          },
          "metadata": {
            "tags": []
          },
          "execution_count": 20
        }
      ]
    },
    {
      "cell_type": "code",
      "metadata": {
        "colab": {
          "base_uri": "https://localhost:8080/"
        },
        "id": "4Mos1uzz8IGS",
        "outputId": "985b71b5-06e6-4a47-8d3a-2415775055c7"
      },
      "source": [
        "#For good measure let's look at asian and american\n",
        "stats.ttest_ind(asian_beans_df[\"rating\"], american_beans_df[\"rating\"])"
      ],
      "execution_count": 21,
      "outputs": [
        {
          "output_type": "execute_result",
          "data": {
            "text/plain": [
              "Ttest_indResult(statistic=1.3108708150780886, pvalue=0.19012993901220673)"
            ]
          },
          "metadata": {
            "tags": []
          },
          "execution_count": 21
        }
      ]
    },
    {
      "cell_type": "markdown",
      "metadata": {
        "id": "WvhHPDPBnJfr"
      },
      "source": [
        "There is no significant difference in rating between the two regions. Beans coming from the African region and the American region. There is also none between African and Asian region. From this we can also conclude Asian and American Beans have no difference as well."
      ]
    },
    {
      "cell_type": "code",
      "metadata": {
        "colab": {
          "base_uri": "https://localhost:8080/",
          "height": 392
        },
        "id": "yr0h20Gvwlnh",
        "outputId": "3a81a77b-b7ca-485d-9f28-763f6ae82493"
      },
      "source": [
        "fig, axes = plt.subplots(1,3, figsize = (15,5), sharex= True)\n",
        "fig.suptitle('Distubtion of scores')\n",
        "\n",
        "#African\n",
        "sns.boxplot(ax= axes[0],x= african_beans_df[\"rating\"]).set_title(\"African\")\n",
        "#American\n",
        "sns.boxplot(ax=axes[1], x= american_beans_df[\"rating\"]).set_title(\"American\")\n",
        "#Asian\n",
        "sns.boxplot(ax=axes[2], x= asian_beans_df[\"rating\"]).set_title(\"Asian\")\n"
      ],
      "execution_count": 42,
      "outputs": [
        {
          "output_type": "execute_result",
          "data": {
            "text/plain": [
              "Text(0.5, 1.0, 'Asian')"
            ]
          },
          "metadata": {
            "tags": []
          },
          "execution_count": 42
        },
        {
          "output_type": "display_data",
          "data": {
            "image/png": "[encoded data removed]",
            "text/plain": [
              "<Figure size 1080x360 with 3 Axes>"
            ]
          },
          "metadata": {
            "tags": []
          }
        }
      ]
    },
    {
      "cell_type": "markdown",
      "metadata": {
        "id": "a-UYzNFGnjK9"
      },
      "source": [
        "African, American, and Asian regions all score a little above the 3.0 range. Concluding it is not a matter of region when it comes to the ratings of chocolate bars, even if outliers happen. "
      ]
    },
    {
      "cell_type": "markdown",
      "metadata": {
        "id": "1UOgCPaSngUL"
      },
      "source": [
        "# Cocoa Percent And Ratings"
      ]
    },
    {
      "cell_type": "markdown",
      "metadata": {
        "id": "RTCHBJgMojEj"
      },
      "source": [
        "Cocoa beans come out of the ground processed in their respective regions. It is now on the chocolaterie to make the chocolate bar. Bars of chocolate are on a scale of zero to one-hundred percent. A bar with one-hundred percent has no sweetener in it. *So watch out if eating.*  Below we look at whether cocoa percentage has an affect on rating."
      ]
    },
    {
      "cell_type": "code",
      "metadata": {
        "colab": {
          "base_uri": "https://localhost:8080/"
        },
        "id": "eN-pycMqnnIa",
        "outputId": "93430188-b698-4782-cb9c-b9d04cbe47d9"
      },
      "source": [
        "stats.pearsonr(choc_review_df[\"cocoa_perc\"], choc_review_df[\"rating\"])"
      ],
      "execution_count": 23,
      "outputs": [
        {
          "output_type": "execute_result",
          "data": {
            "text/plain": [
              "(-0.16482017762424425, 2.1215999288704344e-12)"
            ]
          },
          "metadata": {
            "tags": []
          },
          "execution_count": 23
        }
      ]
    },
    {
      "cell_type": "code",
      "metadata": {
        "colab": {
          "base_uri": "https://localhost:8080/",
          "height": 392
        },
        "id": "iCigIK9zoT4t",
        "outputId": "667d410c-906f-41bf-e87f-a0c29570bf29"
      },
      "source": [
        "fig, axes = plt.subplots( figsize = (15,5), sharex= True)\n",
        "fig.suptitle('Distubtion of Scores')\n",
        "sns.scatterplot(x=choc_review_df[\"cocoa_perc\"], y= choc_review_df[\"rating\"])"
      ],
      "execution_count": 24,
      "outputs": [
        {
          "output_type": "execute_result",
          "data": {
            "text/plain": [
              "<matplotlib.axes._subplots.AxesSubplot at 0x7fc0fefc4fd0>"
            ]
          },
          "metadata": {
            "tags": []
          },
          "execution_count": 24
        },
        {
          "output_type": "display_data",
          "data": {
            "image/png": "[encoded data removed]",
            "text/plain": [
              "<Figure size 1080x360 with 1 Axes>"
            ]
          },
          "metadata": {
            "tags": []
          }
        }
      ]
    },
    {
      "cell_type": "markdown",
      "metadata": {
        "id": "83Aet5DiqGPM"
      },
      "source": [
        "There is no strong sign cocoa percentage affects the rating a bar receives. ***However*** it's natural to wonder about that data point that says 5.0. *A perfect score* A company called [Amedei](https://us.amedei.it/en/)  makes both of those values. The reviewers tasted 70% dark chocolate. But I understand temptations towards flavored or less rich chocolate. Oh! The bean used in the two perfect 5.0 scores? Trinitario. The other being a blend."
      ]
    },
    {
      "cell_type": "code",
      "metadata": {
        "colab": {
          "base_uri": "https://localhost:8080/",
          "height": 111
        },
        "id": "kiOUz8qCRW-g",
        "outputId": "fb50f802-381a-4563-f02d-f21a368ba035"
      },
      "source": [
        "choc_review_df.loc[choc_review_df[\"rating\"] == 5].head()"
      ],
      "execution_count": 25,
      "outputs": [
        {
          "output_type": "execute_result",
          "data": {
            "text/html": [
              "<div>\n",
              "<style scoped>\n",
              "    .dataframe tbody tr th:only-of-type {\n",
              "        vertical-align: middle;\n",
              "    }\n",
              "\n",
              "    .dataframe tbody tr th {\n",
              "        vertical-align: top;\n",
              "    }\n",
              "\n",
              "    .dataframe thead th {\n",
              "        text-align: right;\n",
              "    }\n",
              "</style>\n",
              "<table border=\"1\" class=\"dataframe\">\n",
              "  <thead>\n",
              "    <tr style=\"text-align: right;\">\n",
              "      <th></th>\n",
              "      <th>company</th>\n",
              "      <th>bean_origin</th>\n",
              "      <th>review_n</th>\n",
              "      <th>review_year</th>\n",
              "      <th>cocoa_perc</th>\n",
              "      <th>company_location</th>\n",
              "      <th>rating</th>\n",
              "      <th>bean_type</th>\n",
              "      <th>bean_origin_c</th>\n",
              "    </tr>\n",
              "  </thead>\n",
              "  <tbody>\n",
              "    <tr>\n",
              "      <th>78</th>\n",
              "      <td>Amedei</td>\n",
              "      <td>Chuao</td>\n",
              "      <td>111</td>\n",
              "      <td>2007</td>\n",
              "      <td>0.7</td>\n",
              "      <td>Italy</td>\n",
              "      <td>5.0</td>\n",
              "      <td>Trinitario</td>\n",
              "      <td>Venezuela</td>\n",
              "    </tr>\n",
              "    <tr>\n",
              "      <th>86</th>\n",
              "      <td>Amedei</td>\n",
              "      <td>Toscano Black</td>\n",
              "      <td>40</td>\n",
              "      <td>2006</td>\n",
              "      <td>0.7</td>\n",
              "      <td>Italy</td>\n",
              "      <td>5.0</td>\n",
              "      <td>Blend</td>\n",
              "      <td></td>\n",
              "    </tr>\n",
              "  </tbody>\n",
              "</table>\n",
              "</div>"
            ],
            "text/plain": [
              "   company    bean_origin  review_n  ...  rating   bean_type bean_origin_c\n",
              "78  Amedei          Chuao       111  ...     5.0  Trinitario     Venezuela\n",
              "86  Amedei  Toscano Black        40  ...     5.0       Blend              \n",
              "\n",
              "[2 rows x 9 columns]"
            ]
          },
          "metadata": {
            "tags": []
          },
          "execution_count": 25
        }
      ]
    },
    {
      "cell_type": "code",
      "metadata": {
        "colab": {
          "base_uri": "https://localhost:8080/",
          "height": 542
        },
        "id": "lVPwCz_-xak5",
        "outputId": "6018a888-93f1-4d73-fe6e-1960e3a52b7a"
      },
      "source": [
        "data_tips = px.data.tips()\n",
        "\n",
        "px.histogram(choc_review_df, x = \"cocoa_perc\", title= \"Cocoa Percentage Usage\")\n"
      ],
      "execution_count": 26,
      "outputs": [
        {
          "output_type": "display_data",
          "data": {
            "text/html": [
              "<html>\n",
              "<head><meta charset=\"utf-8\" /></head>\n",
              "<body>\n",
              "    <div>\n",
              "            <script src=\"https://cdnjs.cloudflare.com/ajax/libs/mathjax/2.7.5/MathJax.js?config=TeX-AMS-MML_SVG\"></script><script type=\"text/javascript\">if (window.MathJax) {MathJax.Hub.Config({SVG: {font: \"STIX-Web\"}});}</script>\n",
              "                <script type=\"text/javascript\">window.PlotlyConfig = {MathJaxConfig: 'local'};</script>\n",
              "        <script src=\"https://cdn.plot.ly/plotly-latest.min.js\"></script>    \n",
              "            <div id=\"9e248b1e-1104-4ac9-a8f4-53038a05749c\" class=\"plotly-graph-div\" style=\"height:525px; width:100%;\"></div>\n",
              "            <script type=\"text/javascript\">\n",
              "                \n",
              "                    window.PLOTLYENV=window.PLOTLYENV || {};\n",
              "                    \n",
              "                if (document.getElementById(\"9e248b1e-1104-4ac9-a8f4-53038a05749c\")) {\n",
              "                    Plotly.newPlot(\n",
              "                        '9e248b1e-1104-4ac9-a8f4-53038a05749c',\n",
              "                        [{\"alignmentgroup\": \"True\", \"bingroup\": \"x\", \"hoverlabel\": {\"namelength\": 0}, \"hovertemplate\": \"cocoa_perc=%{x}<br>count=%{y}\", \"legendgroup\": \"\", \"marker\": {\"color\": \"#636efa\"}, \"name\": \"\", \"offsetgroup\": \"\", \"orientation\": \"v\", \"showlegend\": false, \"type\": \"histogram\", \"x\": [0.63, 0.7, 0.7, 0.7, 0.7, 0.7, 0.7, 0.7, 0.7, 0.7, 0.7, 0.7, 0.7, 0.7, 0.7, 0.7, 0.7, 0.7, 0.7, 0.7, 0.63, 0.7, 0.63, 0.7, 0.7, 0.6, 0.8, 0.88, 0.72, 0.55, 0.7, 0.7, 0.75, 0.75, 0.75, 0.65, 0.75, 0.75, 0.75, 0.75, 0.7, 0.7, 0.7, 0.7, 0.6, 0.6, 0.6, 0.6, 0.6, 0.6, 0.6, 0.8, 0.6, 0.6, 0.7, 0.7, 0.7, 0.7, 0.7, 0.7, 0.7, 0.7, 0.7, 0.7, 0.7, 0.85, 0.85, 0.72, 0.73, 0.64, 0.66, 0.75, 0.63, 0.7, 0.68, 0.7, 0.7, 0.75, 0.7, 0.7, 0.7, 0.7, 0.7, 0.7, 0.7, 0.63, 0.7, 0.66, 0.75, 0.85, 0.5, 0.75, 0.6, 0.75, 0.75, 0.75, 0.72, 0.75, 0.75, 0.7, 0.7, 0.73, 0.7, 0.7, 0.7, 0.7, 0.7, 0.7, 0.7, 0.7, 0.7, 0.73, 0.7, 0.68, 0.7, 0.7, 0.7, 0.7, 0.75, 0.7, 0.75, 0.72, 0.72, 0.72, 0.72, 1.0, 0.72, 0.72, 0.72, 0.72, 0.75, 0.72, 0.72, 0.8, 0.75, 0.72, 0.72, 0.72, 0.68, 0.72, 0.7, 0.77, 0.75, 0.7, 0.8, 0.7, 0.7, 0.7, 0.7, 0.7, 0.7, 0.7, 0.7, 0.7, 0.7, 0.7, 0.8, 0.65, 0.7, 0.65, 0.73, 0.72, 0.8, 0.7, 0.7, 0.9, 0.64, 0.64, 0.64, 0.71, 0.7, 0.7, 0.7, 0.83, 0.78, 0.83, 0.74, 0.74, 0.74, 0.73, 0.72, 0.72, 0.55, 0.64, 0.88, 0.72, 0.72, 0.7, 0.74, 0.64, 0.72, 0.76, 0.76, 0.78, 0.86, 0.72, 0.75, 0.7, 0.65, 0.7, 0.78, 0.75, 0.65, 0.75, 0.65, 0.71, 0.75, 0.68, 0.7, 0.7, 0.7, 0.7, 0.7, 0.82, 0.72, 0.82, 0.75, 0.75, 0.75, 0.7, 0.7, 0.75, 0.75, 0.75, 0.65, 0.75, 0.75, 0.75, 0.75, 0.75, 0.75, 0.75, 0.75, 0.75, 0.75, 0.75, 0.75, 0.75, 0.75, 0.75, 0.75, 0.75, 0.75, 0.75, 0.75, 1.0, 0.75, 0.75, 0.77, 1.0, 0.7, 0.7, 0.7, 0.7, 0.68, 0.7, 0.7, 0.72, 0.7, 0.75, 0.85, 0.6, 0.8, 0.7, 0.8, 0.8, 0.6, 0.7, 0.72, 0.7, 0.72, 0.68, 0.7, 0.68, 0.72, 0.72, 0.72, 0.72, 0.6, 0.7, 0.75, 0.75, 0.75, 0.75, 0.65, 0.7, 0.75, 0.72, 0.66, 0.77, 0.75, 0.75, 0.74, 0.75, 0.7, 0.74, 0.71, 0.74, 0.72, 0.64, 0.7, 0.69, 0.7, 0.7, 0.72, 0.72, 0.66, 0.65, 0.7, 0.71, 0.71, 0.71, 0.71, 0.71, 0.77, 0.7, 0.7, 0.7, 0.7, 0.7, 0.7, 0.63, 0.71, 0.82, 0.91, 0.6, 0.7, 0.75, 0.72, 0.7, 1.0, 0.8, 0.78, 0.7, 0.75, 0.73, 0.7, 0.75, 0.7, 0.77, 0.77, 0.77, 0.55, 0.55, 0.55, 0.7, 0.7, 0.72, 0.72, 0.72, 0.72, 0.8, 0.65, 0.65, 0.65, 0.65, 0.65, 0.72, 0.72, 0.7, 0.72, 0.72, 0.76, 0.7, 0.7, 0.73, 0.7, 0.7, 0.72, 0.7, 0.72, 0.7, 0.7, 0.7, 0.7, 0.72, 0.7, 0.7, 0.55, 0.75, 0.7, 0.7, 0.7, 0.75, 0.82, 0.7, 0.7, 0.65, 0.65, 0.8, 0.7, 0.68, 0.9, 0.8, 0.7, 0.7, 0.6, 0.75, 0.8, 0.7, 0.8, 0.74, 0.75, 0.68, 0.8, 0.69, 0.8, 0.7, 0.82, 0.68, 0.72, 0.7, 0.77, 0.65, 0.71, 0.71, 0.6, 0.75, 0.71, 0.71, 0.71, 0.7, 0.65, 0.75, 0.8, 0.7, 0.7, 0.8, 0.7, 0.42, 0.75, 0.68, 0.61, 0.77, 0.735, 0.8, 0.75, 1.0, 0.73, 0.75, 0.7, 0.8, 0.72, 0.7, 0.88, 0.76, 0.78, 0.65, 0.85, 1.0, 0.72, 0.7, 0.72, 0.7, 0.72, 0.72, 0.72, 0.72, 0.72, 0.62, 0.7, 0.7, 0.72, 0.72, 0.72, 0.7, 0.7, 0.83, 0.75, 0.65, 0.67, 0.64, 0.75, 0.85, 0.73, 0.7, 0.7, 0.72, 0.7, 0.7, 0.7, 0.7, 0.7, 0.7, 0.7, 0.7, 0.7, 0.7, 0.7, 0.7, 0.7, 0.7, 0.7, 0.7, 0.7, 0.7, 0.7, 0.7, 0.82, 0.75, 0.7, 0.7, 0.7, 0.7, 0.6, 0.75, 0.6, 0.72, 0.72, 0.7, 0.75, 0.7, 0.7, 0.7, 0.7, 0.7, 0.7, 0.7, 0.58, 0.72, 0.65, 0.7, 0.7, 0.66, 0.64, 0.71, 0.6, 0.64, 0.64, 0.64, 0.66, 0.72, 0.8, 0.77, 0.77, 0.7, 0.78, 0.7, 0.74, 0.7, 0.76, 0.75, 0.72, 0.8, 0.72, 0.75, 0.74, 0.7, 0.85, 0.72, 0.72, 0.72, 0.7, 0.88, 0.7, 0.7, 0.7, 1.0, 0.7, 0.7, 0.7, 0.7, 0.7, 0.7, 0.78, 0.7, 0.7, 0.75, 0.6, 0.7, 0.7, 0.7, 0.7, 0.7, 0.7, 0.7, 0.7, 0.75, 0.7, 0.8, 0.77, 0.7, 0.7, 0.76, 0.72, 0.72, 0.65, 0.72, 0.71, 0.71, 0.7, 0.72, 0.7, 0.7, 0.7, 0.82, 0.7, 0.7, 0.7, 0.7, 0.7, 0.7, 0.7, 0.7, 0.7, 0.7, 0.72, 0.68, 0.75, 0.71, 0.7, 0.605, 0.7, 0.74, 0.58, 0.61, 0.7, 0.6, 0.7, 0.79, 0.78, 0.75, 0.8, 0.7, 0.8, 0.74, 0.7, 0.65, 0.81, 0.74, 0.72, 0.55, 0.55, 0.7, 0.62, 0.62, 0.8, 0.8, 0.8, 0.75, 0.76, 0.76, 0.76, 0.58, 0.62, 0.74, 0.64, 0.65, 0.72, 0.68, 0.65, 0.8, 0.7, 0.85, 0.72, 0.7, 0.8, 0.7, 0.75, 0.67, 0.7, 0.7, 0.7, 0.6, 0.7, 0.75, 0.8, 0.6, 0.65, 0.7, 0.73, 0.8, 0.68, 0.66, 0.7, 0.61, 0.81, 0.7, 0.65, 0.7, 0.7, 0.7, 0.7, 0.72, 0.72, 0.7, 0.7, 0.69, 0.69, 0.74, 0.69, 0.69, 0.74, 0.7, 0.72, 0.7, 0.74, 0.72, 0.74, 0.76, 0.7, 0.8, 0.7, 0.7, 0.65, 0.7, 0.6, 0.85, 0.7, 0.7, 0.7, 0.7, 0.7, 0.7, 0.7, 0.7, 0.7, 0.7, 0.74, 0.74, 0.7, 0.76, 0.7, 0.75, 0.7, 0.66, 0.7, 0.85, 0.65, 0.7, 0.7, 0.8, 0.75, 0.7, 0.66, 0.77, 0.77, 0.77, 0.72, 0.7, 0.7, 0.82, 0.6, 0.71, 0.64, 0.64, 0.64, 0.76, 0.64, 0.7, 0.65, 0.65, 0.65, 0.65, 0.72, 0.61, 0.72, 0.65, 0.55, 0.91, 0.7, 0.65, 0.64, 0.65, 0.72, 0.65, 0.65, 0.65, 0.65, 0.61, 0.61, 0.8, 0.74, 0.75, 0.7, 0.65, 0.7, 0.8, 0.66, 1.0, 0.77, 0.55, 0.7, 0.7, 0.85, 0.67, 0.77, 0.74, 0.64, 0.7, 0.74, 0.67, 0.67, 0.67, 0.67, 0.72, 0.7, 0.77, 0.68, 0.72, 0.57, 0.74, 0.7, 0.74, 0.7, 0.73, 0.7, 0.7, 0.72, 0.75, 0.66, 0.8, 0.8, 0.72, 0.58, 0.58, 0.7, 0.7, 0.7, 0.7, 0.7, 0.7, 0.7, 0.7, 0.75, 0.72, 0.7, 0.7, 1.0, 0.75, 0.8, 0.9, 0.72, 0.82, 1.0, 1.0, 1.0, 0.66, 0.8, 0.65, 0.65, 0.7, 0.7, 0.7, 0.72, 0.8, 0.75, 0.72, 0.7, 0.7, 0.7, 0.7, 0.7, 0.7, 0.7, 0.7, 0.72, 0.72, 0.72, 0.72, 0.72, 0.74, 0.72, 0.7, 0.72, 0.72, 0.61, 0.7, 0.7, 0.77, 0.72, 0.72, 0.72, 0.72, 0.72, 0.72, 0.7, 0.7, 0.71, 0.63, 0.7, 0.7, 0.7, 0.7, 0.82, 0.55, 0.62, 0.64, 0.65, 0.7, 0.7, 0.75, 0.85, 0.85, 0.85, 0.75, 0.85, 0.7, 0.8, 0.7, 0.72, 0.6, 0.72, 0.72, 0.72, 0.72, 0.9, 0.72, 0.72, 0.7, 0.7, 0.7, 0.7, 0.725, 0.725, 0.725, 0.725, 0.74, 0.7, 0.68, 0.74, 0.75, 0.74, 0.71, 0.64, 0.68, 0.7, 0.7, 0.7, 0.7, 0.74, 0.6, 0.56, 0.66, 0.68, 0.68, 0.69, 0.6, 0.6, 0.74, 0.72, 0.6, 0.75, 0.75, 0.75, 0.75, 0.75, 0.75, 0.75, 0.75, 0.7, 0.68, 0.7, 0.75, 0.8, 0.75, 0.75, 0.72, 0.7, 0.7, 0.7, 0.7, 0.7, 0.7, 0.7, 0.7, 0.7, 0.71, 0.7, 0.65, 0.68, 0.68, 0.75, 0.74, 0.68, 0.85, 0.65, 0.7, 0.65, 0.75, 0.71, 0.72, 0.7, 0.75, 0.46, 0.6, 0.58, 0.65, 0.7, 0.55, 0.67, 0.7, 0.63, 0.75, 0.73, 0.7, 0.7, 0.7, 0.7, 0.7, 0.7, 0.7, 0.7, 0.7, 0.72, 0.75, 0.7, 0.7, 0.7, 0.7, 0.75, 0.73, 0.65, 0.55, 0.55, 0.7, 0.74, 0.74, 0.74, 0.74, 0.7, 0.72, 0.72, 0.72, 0.72, 0.72, 0.72, 0.72, 0.7, 0.7, 0.7, 0.85, 0.7, 0.7, 0.7, 0.75, 0.7, 0.62, 0.7, 0.7, 0.7, 0.68, 0.75, 0.72, 0.78, 0.7, 0.7, 0.7, 0.75, 0.85, 0.68, 0.7, 0.75, 0.76, 0.72, 0.7, 0.78, 0.8, 0.74, 0.65, 0.65, 0.65, 0.65, 0.74, 0.89, 0.76, 0.82, 0.74, 0.76, 0.74, 0.75, 0.73, 0.72, 0.73, 0.72, 0.76, 0.7, 0.81, 0.7, 0.71, 0.75, 0.73, 0.74, 0.81, 0.75, 0.7, 0.72, 0.68, 0.74, 0.7, 0.7, 0.7, 0.82, 0.63, 0.72, 0.7, 0.7, 0.7, 0.7, 0.7, 0.8, 0.72, 0.8, 0.7, 0.8, 0.7, 0.7, 0.8, 0.7, 0.72, 0.7, 0.66, 0.66, 0.67, 0.6, 0.85, 0.7, 0.67, 0.65, 0.64, 0.99, 0.8, 0.7, 0.75, 0.75, 0.75, 0.7, 0.75, 0.8, 0.65, 0.75, 0.7, 0.7, 0.7, 0.67, 0.77, 0.7, 0.75, 0.7, 0.65, 0.73, 0.72, 0.67, 0.7, 0.7, 0.7, 0.7, 0.7, 0.7, 0.72, 0.7, 0.7, 0.63, 0.85, 0.7, 0.8, 0.68, 0.71, 0.68, 0.8, 0.58, 0.7, 0.7, 0.78, 0.71, 0.7, 0.75, 0.7, 0.85, 0.72, 0.7, 0.735, 0.7, 0.7, 0.67, 0.73, 0.73, 0.75, 0.71, 0.72, 0.72, 0.72, 0.72, 0.75, 0.75, 0.75, 0.75, 0.75, 0.7, 0.7, 0.7, 0.75, 0.8, 0.7, 0.7, 0.7, 0.7, 0.7, 0.7, 0.7, 0.7, 0.7, 0.7, 0.75, 1.0, 0.7, 0.66, 0.7, 0.88, 0.74, 0.7, 0.7, 0.7, 0.72, 0.72, 0.67, 0.75, 0.76, 0.76, 0.85, 0.85, 0.8, 0.7, 0.7, 0.66, 0.74, 0.72, 0.72, 0.72, 0.72, 0.68, 0.8, 0.66, 0.7, 0.75, 0.68, 0.6, 0.6, 0.65, 0.72, 0.7, 0.7, 0.7, 0.7, 0.7, 0.85, 0.7, 0.7, 0.6, 0.65, 0.72, 1.0, 0.7, 0.7, 0.72, 0.7, 0.7, 0.72, 0.72, 0.72, 0.78, 0.75, 0.75, 0.7, 0.76, 0.65, 0.7, 0.7, 0.7, 0.7, 0.55, 0.7, 0.7, 0.75, 0.67, 0.7, 0.7, 0.67, 0.73, 0.64, 0.82, 0.7, 0.75, 0.75, 0.78, 0.85, 0.72, 0.72, 0.7, 0.72, 0.72, 0.85, 0.72, 0.72, 0.72, 0.8, 0.62, 0.8, 0.8, 0.8, 0.8, 0.73, 0.73, 0.73, 0.73, 0.76, 0.82, 0.7, 0.7, 0.7, 0.7, 0.7, 0.7, 0.82, 0.75, 0.75, 0.75, 0.75, 0.75, 1.0, 0.75, 0.75, 0.75, 0.75, 0.75, 0.75, 0.75, 0.75, 0.75, 0.75, 0.75, 0.75, 0.75, 0.75, 0.75, 0.8, 0.75, 0.75, 0.75, 0.77, 0.7, 0.74, 0.8, 0.75, 0.75, 0.72, 0.85, 0.73, 0.75, 0.85, 0.55, 0.8, 0.6, 0.65, 0.7, 0.74, 0.7, 0.75, 0.75, 0.85, 0.7, 0.75, 0.7, 0.8, 0.73, 0.75, 0.7, 0.75, 0.75, 0.75, 0.67, 0.75, 0.75, 0.85, 0.7, 0.75, 0.75, 0.75, 0.75, 0.75, 0.75, 0.7, 0.7, 0.7, 0.75, 0.68, 0.66, 0.75, 0.7, 0.75, 0.8, 0.7, 0.7, 0.75, 0.75, 0.75, 0.75, 0.75, 0.7, 0.7, 0.7, 0.7, 0.7, 0.84, 0.76, 0.72, 0.73, 0.71, 0.7, 0.77, 0.64, 1.0, 0.7, 0.72, 0.72, 0.83, 0.69, 0.7, 0.7, 0.7, 0.7, 0.75, 0.7, 0.53, 0.65, 0.7, 0.7, 0.78, 0.68, 0.68, 0.65, 0.68, 0.65, 0.72, 0.72, 0.72, 0.62, 0.75, 0.75, 0.82, 0.7, 0.68, 0.7, 0.62, 0.7, 0.7, 0.72, 0.73, 0.77, 0.74, 0.75, 0.72, 0.73, 0.73, 0.7, 0.75, 0.82, 0.7, 0.7, 0.67, 0.65, 0.6, 0.68, 0.73, 0.73, 0.73, 1.0, 1.0, 0.73, 0.73, 0.73, 0.67, 0.73, 0.73, 0.7, 0.72, 0.7, 0.7, 0.7, 0.7, 0.7, 0.67, 0.7, 0.65, 0.7, 0.67, 0.7, 0.72, 0.72, 0.65, 0.67, 0.7, 0.67, 0.68, 0.68, 0.7, 0.72, 0.68, 0.85, 0.7, 0.75, 0.7, 0.7, 0.7, 0.7, 0.7, 0.7, 0.62, 0.7, 0.7, 0.75, 0.7, 0.7, 0.7, 0.7, 0.75, 0.7, 0.7, 0.7, 0.8, 0.7, 0.7, 0.77, 0.7, 0.7, 0.7, 0.7, 0.7, 0.88, 0.7, 0.67, 0.7, 0.7, 0.7, 0.7, 0.7, 0.7, 0.7, 0.7, 0.7, 0.85, 0.7, 0.7, 0.64, 0.7, 0.7, 0.7, 0.7, 0.7, 0.7, 0.7, 0.7, 0.7, 0.7, 0.7, 0.7, 0.7, 0.7, 0.75, 0.75, 0.77, 0.8, 0.7, 0.8, 0.75, 0.7, 0.7, 0.7, 0.7, 0.7, 0.7, 0.72, 0.7, 0.7, 0.84, 0.7, 0.7, 0.7, 0.7, 0.7, 0.68, 0.72, 0.84, 0.7, 0.65, 0.7, 0.75, 0.67, 0.78, 0.61, 0.71, 0.7, 0.6, 0.7, 0.7, 0.88, 0.7, 0.7, 0.7, 0.7, 0.7, 0.7, 0.7, 0.7, 0.7, 0.7, 0.7, 0.7, 0.7, 0.7, 0.7, 0.7, 0.7, 0.7, 0.62, 0.6, 0.77, 0.7, 0.68, 0.87, 0.75, 0.7, 0.62, 0.99, 0.6, 0.68, 0.7, 0.7, 0.7, 0.7, 0.7, 0.7, 0.7, 0.7, 0.7, 0.7, 0.7, 0.7, 0.7, 0.7, 0.7, 0.8, 0.67, 0.7, 0.7, 0.7, 0.7, 0.7, 0.7, 0.7, 0.77, 0.67, 0.73, 0.7, 0.65, 0.65, 0.75, 0.84, 0.91, 0.75, 0.7, 0.72, 0.81, 0.7, 0.77, 0.72, 0.74, 0.72, 0.72, 0.75, 0.75, 0.75, 0.68, 0.75, 0.73, 0.6, 0.63, 0.74, 0.7, 0.72, 0.72, 0.65, 0.63, 0.7, 0.64, 0.69, 0.56, 0.64, 0.64, 0.66, 0.68, 0.72, 0.65, 0.64, 0.85, 0.85, 0.71, 0.64, 0.66, 0.7, 0.64, 0.64, 0.64, 0.72, 0.65, 0.72, 0.76, 0.8, 0.7, 0.68, 0.64, 0.7, 0.7, 0.9, 0.75, 0.75, 0.9, 0.7, 0.7, 0.75, 1.0, 0.9, 0.75, 0.65, 0.77, 0.77, 0.77, 0.77, 0.77, 0.7, 0.7, 0.7, 0.7, 0.7, 0.72, 0.75, 0.89, 0.75, 0.75, 0.7, 0.88, 1.0, 0.71, 0.72, 0.69, 0.7, 0.72, 0.74, 0.76, 0.75, 0.7, 0.7, 0.7, 0.7, 0.7, 0.7, 0.7, 0.7, 0.66, 0.7, 0.7, 0.7, 0.7, 0.7, 0.7, 0.7, 0.6, 0.7, 0.7, 0.85, 0.85, 0.7, 0.78, 0.78, 0.65, 0.68, 0.66, 0.72, 0.8, 0.72, 0.65, 0.7, 0.7, 0.62, 0.75, 0.75, 0.9, 0.7, 0.68, 0.58, 0.7, 0.65, 0.65, 0.62, 0.65], \"xaxis\": \"x\", \"yaxis\": \"y\"}],\n",
              "                        {\"barmode\": \"relative\", \"legend\": {\"tracegroupgap\": 0}, \"template\": {\"data\": {\"bar\": [{\"error_x\": {\"color\": \"#2a3f5f\"}, \"error_y\": {\"color\": \"#2a3f5f\"}, \"marker\": {\"line\": {\"color\": \"#E5ECF6\", \"width\": 0.5}}, \"type\": \"bar\"}], \"barpolar\": [{\"marker\": {\"line\": {\"color\": \"#E5ECF6\", \"width\": 0.5}}, \"type\": \"barpolar\"}], \"carpet\": [{\"aaxis\": {\"endlinecolor\": \"#2a3f5f\", \"gridcolor\": \"white\", \"linecolor\": \"white\", \"minorgridcolor\": \"white\", \"startlinecolor\": \"#2a3f5f\"}, \"baxis\": {\"endlinecolor\": \"#2a3f5f\", \"gridcolor\": \"white\", \"linecolor\": \"white\", \"minorgridcolor\": \"white\", \"startlinecolor\": \"#2a3f5f\"}, \"type\": \"carpet\"}], \"choropleth\": [{\"colorbar\": {\"outlinewidth\": 0, \"ticks\": \"\"}, \"type\": \"choropleth\"}], \"contour\": [{\"colorbar\": {\"outlinewidth\": 0, \"ticks\": \"\"}, \"colorscale\": [[0.0, \"#0d0887\"], [0.1111111111111111, \"#46039f\"], [0.2222222222222222, \"#7201a8\"], [0.3333333333333333, \"#9c179e\"], [0.4444444444444444, \"#bd3786\"], [0.5555555555555556, \"#d8576b\"], [0.6666666666666666, \"#ed7953\"], [0.7777777777777778, \"#fb9f3a\"], [0.8888888888888888, \"#fdca26\"], [1.0, \"#f0f921\"]], \"type\": \"contour\"}], \"contourcarpet\": [{\"colorbar\": {\"outlinewidth\": 0, \"ticks\": \"\"}, \"type\": \"contourcarpet\"}], \"heatmap\": [{\"colorbar\": {\"outlinewidth\": 0, \"ticks\": \"\"}, \"colorscale\": [[0.0, \"#0d0887\"], [0.1111111111111111, \"#46039f\"], [0.2222222222222222, \"#7201a8\"], [0.3333333333333333, \"#9c179e\"], [0.4444444444444444, \"#bd3786\"], [0.5555555555555556, \"#d8576b\"], [0.6666666666666666, \"#ed7953\"], [0.7777777777777778, \"#fb9f3a\"], [0.8888888888888888, \"#fdca26\"], [1.0, \"#f0f921\"]], \"type\": \"heatmap\"}], \"heatmapgl\": [{\"colorbar\": {\"outlinewidth\": 0, \"ticks\": \"\"}, \"colorscale\": [[0.0, \"#0d0887\"], [0.1111111111111111, \"#46039f\"], [0.2222222222222222, \"#7201a8\"], [0.3333333333333333, \"#9c179e\"], [0.4444444444444444, \"#bd3786\"], [0.5555555555555556, \"#d8576b\"], [0.6666666666666666, \"#ed7953\"], [0.7777777777777778, \"#fb9f3a\"], [0.8888888888888888, \"#fdca26\"], [1.0, \"#f0f921\"]], \"type\": \"heatmapgl\"}], \"histogram\": [{\"marker\": {\"colorbar\": {\"outlinewidth\": 0, \"ticks\": \"\"}}, \"type\": \"histogram\"}], \"histogram2d\": [{\"colorbar\": {\"outlinewidth\": 0, \"ticks\": \"\"}, \"colorscale\": [[0.0, \"#0d0887\"], [0.1111111111111111, \"#46039f\"], [0.2222222222222222, \"#7201a8\"], [0.3333333333333333, \"#9c179e\"], [0.4444444444444444, \"#bd3786\"], [0.5555555555555556, \"#d8576b\"], [0.6666666666666666, \"#ed7953\"], [0.7777777777777778, \"#fb9f3a\"], [0.8888888888888888, \"#fdca26\"], [1.0, \"#f0f921\"]], \"type\": \"histogram2d\"}], \"histogram2dcontour\": [{\"colorbar\": {\"outlinewidth\": 0, \"ticks\": \"\"}, \"colorscale\": [[0.0, \"#0d0887\"], [0.1111111111111111, \"#46039f\"], [0.2222222222222222, \"#7201a8\"], [0.3333333333333333, \"#9c179e\"], [0.4444444444444444, \"#bd3786\"], [0.5555555555555556, \"#d8576b\"], [0.6666666666666666, \"#ed7953\"], [0.7777777777777778, \"#fb9f3a\"], [0.8888888888888888, \"#fdca26\"], [1.0, \"#f0f921\"]], \"type\": \"histogram2dcontour\"}], \"mesh3d\": [{\"colorbar\": {\"outlinewidth\": 0, \"ticks\": \"\"}, \"type\": \"mesh3d\"}], \"parcoords\": [{\"line\": {\"colorbar\": {\"outlinewidth\": 0, \"ticks\": \"\"}}, \"type\": \"parcoords\"}], \"pie\": [{\"automargin\": true, \"type\": \"pie\"}], \"scatter\": [{\"marker\": {\"colorbar\": {\"outlinewidth\": 0, \"ticks\": \"\"}}, \"type\": \"scatter\"}], \"scatter3d\": [{\"line\": {\"colorbar\": {\"outlinewidth\": 0, \"ticks\": \"\"}}, \"marker\": {\"colorbar\": {\"outlinewidth\": 0, \"ticks\": \"\"}}, \"type\": \"scatter3d\"}], \"scattercarpet\": [{\"marker\": {\"colorbar\": {\"outlinewidth\": 0, \"ticks\": \"\"}}, \"type\": \"scattercarpet\"}], \"scattergeo\": [{\"marker\": {\"colorbar\": {\"outlinewidth\": 0, \"ticks\": \"\"}}, \"type\": \"scattergeo\"}], \"scattergl\": [{\"marker\": {\"colorbar\": {\"outlinewidth\": 0, \"ticks\": \"\"}}, \"type\": \"scattergl\"}], \"scattermapbox\": [{\"marker\": {\"colorbar\": {\"outlinewidth\": 0, \"ticks\": \"\"}}, \"type\": \"scattermapbox\"}], \"scatterpolar\": [{\"marker\": {\"colorbar\": {\"outlinewidth\": 0, \"ticks\": \"\"}}, \"type\": \"scatterpolar\"}], \"scatterpolargl\": [{\"marker\": {\"colorbar\": {\"outlinewidth\": 0, \"ticks\": \"\"}}, \"type\": \"scatterpolargl\"}], \"scatterternary\": [{\"marker\": {\"colorbar\": {\"outlinewidth\": 0, \"ticks\": \"\"}}, \"type\": \"scatterternary\"}], \"surface\": [{\"colorbar\": {\"outlinewidth\": 0, \"ticks\": \"\"}, \"colorscale\": [[0.0, \"#0d0887\"], [0.1111111111111111, \"#46039f\"], [0.2222222222222222, \"#7201a8\"], [0.3333333333333333, \"#9c179e\"], [0.4444444444444444, \"#bd3786\"], [0.5555555555555556, \"#d8576b\"], [0.6666666666666666, \"#ed7953\"], [0.7777777777777778, \"#fb9f3a\"], [0.8888888888888888, \"#fdca26\"], [1.0, \"#f0f921\"]], \"type\": \"surface\"}], \"table\": [{\"cells\": {\"fill\": {\"color\": \"#EBF0F8\"}, \"line\": {\"color\": \"white\"}}, \"header\": {\"fill\": {\"color\": \"#C8D4E3\"}, \"line\": {\"color\": \"white\"}}, \"type\": \"table\"}]}, \"layout\": {\"annotationdefaults\": {\"arrowcolor\": \"#2a3f5f\", \"arrowhead\": 0, \"arrowwidth\": 1}, \"coloraxis\": {\"colorbar\": {\"outlinewidth\": 0, \"ticks\": \"\"}}, \"colorscale\": {\"diverging\": [[0, \"#8e0152\"], [0.1, \"#c51b7d\"], [0.2, \"#de77ae\"], [0.3, \"#f1b6da\"], [0.4, \"#fde0ef\"], [0.5, \"#f7f7f7\"], [0.6, \"#e6f5d0\"], [0.7, \"#b8e186\"], [0.8, \"#7fbc41\"], [0.9, \"#4d9221\"], [1, \"#276419\"]], \"sequential\": [[0.0, \"#0d0887\"], [0.1111111111111111, \"#46039f\"], [0.2222222222222222, \"#7201a8\"], [0.3333333333333333, \"#9c179e\"], [0.4444444444444444, \"#bd3786\"], [0.5555555555555556, \"#d8576b\"], [0.6666666666666666, \"#ed7953\"], [0.7777777777777778, \"#fb9f3a\"], [0.8888888888888888, \"#fdca26\"], [1.0, \"#f0f921\"]], \"sequentialminus\": [[0.0, \"#0d0887\"], [0.1111111111111111, \"#46039f\"], [0.2222222222222222, \"#7201a8\"], [0.3333333333333333, \"#9c179e\"], [0.4444444444444444, \"#bd3786\"], [0.5555555555555556, \"#d8576b\"], [0.6666666666666666, \"#ed7953\"], [0.7777777777777778, \"#fb9f3a\"], [0.8888888888888888, \"#fdca26\"], [1.0, \"#f0f921\"]]}, \"colorway\": [\"#636efa\", \"#EF553B\", \"#00cc96\", \"#ab63fa\", \"#FFA15A\", \"#19d3f3\", \"#FF6692\", \"#B6E880\", \"#FF97FF\", \"#FECB52\"], \"font\": {\"color\": \"#2a3f5f\"}, \"geo\": {\"bgcolor\": \"white\", \"lakecolor\": \"white\", \"landcolor\": \"#E5ECF6\", \"showlakes\": true, \"showland\": true, \"subunitcolor\": \"white\"}, \"hoverlabel\": {\"align\": \"left\"}, \"hovermode\": \"closest\", \"mapbox\": {\"style\": \"light\"}, \"paper_bgcolor\": \"white\", \"plot_bgcolor\": \"#E5ECF6\", \"polar\": {\"angularaxis\": {\"gridcolor\": \"white\", \"linecolor\": \"white\", \"ticks\": \"\"}, \"bgcolor\": \"#E5ECF6\", \"radialaxis\": {\"gridcolor\": \"white\", \"linecolor\": \"white\", \"ticks\": \"\"}}, \"scene\": {\"xaxis\": {\"backgroundcolor\": \"#E5ECF6\", \"gridcolor\": \"white\", \"gridwidth\": 2, \"linecolor\": \"white\", \"showbackground\": true, \"ticks\": \"\", \"zerolinecolor\": \"white\"}, \"yaxis\": {\"backgroundcolor\": \"#E5ECF6\", \"gridcolor\": \"white\", \"gridwidth\": 2, \"linecolor\": \"white\", \"showbackground\": true, \"ticks\": \"\", \"zerolinecolor\": \"white\"}, \"zaxis\": {\"backgroundcolor\": \"#E5ECF6\", \"gridcolor\": \"white\", \"gridwidth\": 2, \"linecolor\": \"white\", \"showbackground\": true, \"ticks\": \"\", \"zerolinecolor\": \"white\"}}, \"shapedefaults\": {\"line\": {\"color\": \"#2a3f5f\"}}, \"ternary\": {\"aaxis\": {\"gridcolor\": \"white\", \"linecolor\": \"white\", \"ticks\": \"\"}, \"baxis\": {\"gridcolor\": \"white\", \"linecolor\": \"white\", \"ticks\": \"\"}, \"bgcolor\": \"#E5ECF6\", \"caxis\": {\"gridcolor\": \"white\", \"linecolor\": \"white\", \"ticks\": \"\"}}, \"title\": {\"x\": 0.05}, \"xaxis\": {\"automargin\": true, \"gridcolor\": \"white\", \"linecolor\": \"white\", \"ticks\": \"\", \"title\": {\"standoff\": 15}, \"zerolinecolor\": \"white\", \"zerolinewidth\": 2}, \"yaxis\": {\"automargin\": true, \"gridcolor\": \"white\", \"linecolor\": \"white\", \"ticks\": \"\", \"title\": {\"standoff\": 15}, \"zerolinecolor\": \"white\", \"zerolinewidth\": 2}}}, \"title\": {\"text\": \"Cocoa Percentage Usage\"}, \"xaxis\": {\"anchor\": \"y\", \"domain\": [0.0, 1.0], \"title\": {\"text\": \"cocoa_perc\"}}, \"yaxis\": {\"anchor\": \"x\", \"domain\": [0.0, 1.0], \"title\": {\"text\": \"count\"}}},\n",
              "                        {\"responsive\": true}\n",
              "                    ).then(function(){\n",
              "                            \n",
              "var gd = document.getElementById('9e248b1e-1104-4ac9-a8f4-53038a05749c');\n",
              "var x = new MutationObserver(function (mutations, observer) {{\n",
              "        var display = window.getComputedStyle(gd).display;\n",
              "        if (!display || display === 'none') {{\n",
              "            console.log([gd, 'removed!']);\n",
              "            Plotly.purge(gd);\n",
              "            observer.disconnect();\n",
              "        }}\n",
              "}});\n",
              "\n",
              "// Listen for the removal of the full notebook cells\n",
              "var notebookContainer = gd.closest('#notebook-container');\n",
              "if (notebookContainer) {{\n",
              "    x.observe(notebookContainer, {childList: true});\n",
              "}}\n",
              "\n",
              "// Listen for the clearing of the current output cell\n",
              "var outputEl = gd.closest('.output');\n",
              "if (outputEl) {{\n",
              "    x.observe(outputEl, {childList: true});\n",
              "}}\n",
              "\n",
              "                        })\n",
              "                };\n",
              "                \n",
              "            </script>\n",
              "        </div>\n",
              "</body>\n",
              "</html>"
            ]
          },
          "metadata": {
            "tags": []
          }
        }
      ]
    },
    {
      "cell_type": "markdown",
      "metadata": {
        "id": "cm3LvxBUtdSt"
      },
      "source": [
        "### Most of the chocolate bars are using a percentage of seventy percent cocoa. With only twenty using one-hundred percent. Below we look to answer of this is a significant difference in the ratings of bars."
      ]
    },
    {
      "cell_type": "code",
      "metadata": {
        "id": "07WouWxs4a4S",
        "colab": {
          "base_uri": "https://localhost:8080/"
        },
        "outputId": "0e2868ae-b6b0-4848-8118-4582d88bf259"
      },
      "source": [
        "seven_perc_c_df = choc_review_df.loc[choc_review_df[\"cocoa_perc\"] == .7]\n",
        "print( seven_perc_c_df.info())\n",
        "n_seven_perc_c_df = choc_review_df.loc[choc_review_df[\"cocoa_perc\"] != .7]\n",
        "print(n_seven_perc_c_df.info())"
      ],
      "execution_count": 27,
      "outputs": [
        {
          "output_type": "stream",
          "text": [
            "<class 'pandas.core.frame.DataFrame'>\n",
            "Int64Index: 672 entries, 1 to 1790\n",
            "Data columns (total 9 columns):\n",
            " #   Column            Non-Null Count  Dtype  \n",
            "---  ------            --------------  -----  \n",
            " 0   company           672 non-null    object \n",
            " 1   bean_origin       672 non-null    object \n",
            " 2   review_n          672 non-null    int64  \n",
            " 3   review_year       672 non-null    int64  \n",
            " 4   cocoa_perc        672 non-null    float64\n",
            " 5   company_location  672 non-null    object \n",
            " 6   rating            672 non-null    float64\n",
            " 7   bean_type         671 non-null    object \n",
            " 8   bean_origin_c     672 non-null    object \n",
            "dtypes: float64(2), int64(2), object(5)\n",
            "memory usage: 52.5+ KB\n",
            "None\n",
            "<class 'pandas.core.frame.DataFrame'>\n",
            "Int64Index: 1123 entries, 0 to 1794\n",
            "Data columns (total 9 columns):\n",
            " #   Column            Non-Null Count  Dtype  \n",
            "---  ------            --------------  -----  \n",
            " 0   company           1123 non-null   object \n",
            " 1   bean_origin       1123 non-null   object \n",
            " 2   review_n          1123 non-null   int64  \n",
            " 3   review_year       1123 non-null   int64  \n",
            " 4   cocoa_perc        1123 non-null   float64\n",
            " 5   company_location  1123 non-null   object \n",
            " 6   rating            1123 non-null   float64\n",
            " 7   bean_type         1123 non-null   object \n",
            " 8   bean_origin_c     1122 non-null   object \n",
            "dtypes: float64(2), int64(2), object(5)\n",
            "memory usage: 87.7+ KB\n",
            "None\n"
          ],
          "name": "stdout"
        }
      ]
    },
    {
      "cell_type": "code",
      "metadata": {
        "colab": {
          "base_uri": "https://localhost:8080/"
        },
        "id": "30Sxqdbt6B7H",
        "outputId": "196c30a0-fd59-4b52-ec37-b66ada3454f7"
      },
      "source": [
        "stats.ttest_ind(seven_perc_c_df[\"rating\"], n_seven_perc_c_df[\"rating\"])\n"
      ],
      "execution_count": 28,
      "outputs": [
        {
          "output_type": "execute_result",
          "data": {
            "text/plain": [
              "Ttest_indResult(statistic=6.242463608649137, pvalue=5.363747175208513e-10)"
            ]
          },
          "metadata": {
            "tags": []
          },
          "execution_count": 28
        }
      ]
    },
    {
      "cell_type": "markdown",
      "metadata": {
        "id": "gAj3FBeSCB6b"
      },
      "source": [
        "Comparing the bars of chocolate **there is a significant difference** between the ratings!"
      ]
    },
    {
      "cell_type": "code",
      "metadata": {
        "colab": {
          "base_uri": "https://localhost:8080/"
        },
        "id": "Vx4rstPb8dMq",
        "outputId": "cf427e7e-1fc1-448d-c7dc-a6a891c49044"
      },
      "source": [
        "print( \"The mean rating of a seventy percent bar is \" + str(round(seven_perc_c_df[\"rating\"].sum()/len(seven_perc_c_df[\"rating\"]),2)))\n",
        "print( \"The mean rating of a not seveenty perent bar is \" + str(round(n_seven_perc_c_df[\"rating\"].sum()/len(n_seven_perc_c_df[\"rating\"]),2)))"
      ],
      "execution_count": 40,
      "outputs": [
        {
          "output_type": "stream",
          "text": [
            "The mean rating of a seventy percent bar is 3.28\n",
            "The mean rating of a not seveenty perent bar is 3.13\n"
          ],
          "name": "stdout"
        }
      ]
    },
    {
      "cell_type": "code",
      "metadata": {
        "colab": {
          "base_uri": "https://localhost:8080/",
          "height": 392
        },
        "id": "6quiNBWl6O-f",
        "outputId": "efe9d5b7-3052-4264-cde1-ae7352df0abd"
      },
      "source": [
        "fig, axes = plt.subplots(1,2, figsize = (15,5), sharey= True, sharex= True)\n",
        "fig.suptitle('Comparing Cocoa Percentage')\n",
        "#ax.xaxis.set_minor_locator(AutoMinorLocator(10))\n",
        "\n",
        "\n",
        "sns.histplot(ax=axes[0], x= seven_perc_c_df[\"rating\"]).set_title(\"Seventy percent\")\n",
        "sns.histplot(ax=axes[1], x= n_seven_perc_c_df[\"rating\"]).set_title(\"All Other\")"
      ],
      "execution_count": 29,
      "outputs": [
        {
          "output_type": "execute_result",
          "data": {
            "text/plain": [
              "Text(0.5, 1.0, 'All Other')"
            ]
          },
          "metadata": {
            "tags": []
          },
          "execution_count": 29
        },
        {
          "output_type": "display_data",
          "data": {
            "image/png": "[encoded data removed]",
            "text/plain": [
              "<Figure size 1080x360 with 2 Axes>"
            ]
          },
          "metadata": {
            "tags": []
          }
        }
      ]
    },
    {
      "cell_type": "markdown",
      "metadata": {
        "id": "4IH-qbwcErol"
      },
      "source": [
        "### Seventy percent Cocoa percentage does not fall below 2.5. While it still reaching the same high scores of 4.0 including the rare 5.0 score. "
      ]
    },
    {
      "cell_type": "markdown",
      "metadata": {
        "id": "53fljj051gd5"
      },
      "source": [
        "# United States Bias#"
      ]
    },
    {
      "cell_type": "markdown",
      "metadata": {
        "id": "nq86LcfjFksz"
      },
      "source": [
        "Finally we look to see if there may be a bias in the companies that are producing the chocolate bars. There are sixty different countries in the data set. But the majority locate in the United States. "
      ]
    },
    {
      "cell_type": "code",
      "metadata": {
        "colab": {
          "base_uri": "https://localhost:8080/",
          "height": 542
        },
        "id": "iwAD2Sb_7NJV",
        "outputId": "f63be12a-f50a-486c-b20a-fecb3d8466c7"
      },
      "source": [
        "data_tips = px.data.tips()\n",
        "\n",
        "px.histogram(data_tips, x = choc_review_df[\"company_location\"], title= \"Country Location of Companies\")"
      ],
      "execution_count": 30,
      "outputs": [
        {
          "output_type": "display_data",
          "data": {
            "text/html": [
              "<html>\n",
              "<head><meta charset=\"utf-8\" /></head>\n",
              "<body>\n",
              "    <div>\n",
              "            <script src=\"https://cdnjs.cloudflare.com/ajax/libs/mathjax/2.7.5/MathJax.js?config=TeX-AMS-MML_SVG\"></script><script type=\"text/javascript\">if (window.MathJax) {MathJax.Hub.Config({SVG: {font: \"STIX-Web\"}});}</script>\n",
              "                <script type=\"text/javascript\">window.PlotlyConfig = {MathJaxConfig: 'local'};</script>\n",
              "        <script src=\"https://cdn.plot.ly/plotly-latest.min.js\"></script>    \n",
              "            <div id=\"d51e23d9-1b7d-4330-95e7-9ec3529518b2\" class=\"plotly-graph-div\" style=\"height:525px; width:100%;\"></div>\n",
              "            <script type=\"text/javascript\">\n",
              "                \n",
              "                    window.PLOTLYENV=window.PLOTLYENV || {};\n",
              "                    \n",
              "                if (document.getElementById(\"d51e23d9-1b7d-4330-95e7-9ec3529518b2\")) {\n",
              "                    Plotly.newPlot(\n",
              "                        'd51e23d9-1b7d-4330-95e7-9ec3529518b2',\n",
              "                        [{\"alignmentgroup\": \"True\", \"bingroup\": \"x\", \"hoverlabel\": {\"namelength\": 0}, \"hovertemplate\": \"x=%{x}<br>count=%{y}\", \"legendgroup\": \"\", \"marker\": {\"color\": \"#636efa\"}, \"name\": \"\", \"offsetgroup\": \"\", \"orientation\": \"v\", \"showlegend\": false, \"type\": \"histogram\", \"x\": [\"France\", \"France\", \"France\", \"France\", \"France\", \"France\", \"France\", \"France\", \"France\", \"France\", \"France\", \"France\", \"France\", \"France\", \"France\", \"France\", \"France\", \"France\", \"France\", \"France\", \"France\", \"France\", \"France\", \"U.S.A.\", \"U.S.A.\", \"Fiji\", \"Fiji\", \"Fiji\", \"Fiji\", \"Ecuador\", \"Ecuador\", \"Mexico\", \"Switzerland\", \"Switzerland\", \"Switzerland\", \"France\", \"France\", \"France\", \"France\", \"France\", \"Netherlands\", \"Netherlands\", \"Netherlands\", \"Netherlands\", \"U.S.A.\", \"U.S.A.\", \"U.S.A.\", \"U.S.A.\", \"U.S.A.\", \"U.S.A.\", \"U.S.A.\", \"U.S.A.\", \"U.S.A.\", \"U.S.A.\", \"U.S.A.\", \"U.S.A.\", \"U.S.A.\", \"U.S.A.\", \"U.S.A.\", \"U.S.A.\", \"U.S.A.\", \"U.S.A.\", \"U.S.A.\", \"Spain\", \"Spain\", \"Spain\", \"Spain\", \"Peru\", \"Peru\", \"Canada\", \"Canada\", \"Canada\", \"Canada\", \"Canada\", \"Canada\", \"Italy\", \"Italy\", \"Italy\", \"Italy\", \"Italy\", \"Italy\", \"Italy\", \"Italy\", \"Italy\", \"Italy\", \"Italy\", \"Italy\", \"Italy\", \"Brazil\", \"Brazil\", \"Brazil\", \"Brazil\", \"Brazil\", \"U.S.A.\", \"U.S.A.\", \"France\", \"France\", \"France\", \"France\", \"U.S.A.\", \"U.S.A.\", \"U.S.A.\", \"U.S.A.\", \"U.S.A.\", \"U.S.A.\", \"U.S.A.\", \"U.S.A.\", \"U.S.A.\", \"U.S.A.\", \"U.S.A.\", \"U.S.A.\", \"U.S.A.\", \"U.S.A.\", \"U.S.A.\", \"U.S.A.\", \"U.S.A.\", \"U.S.A.\", \"U.S.A.\", \"U.S.A.\", \"U.S.A.\", \"U.S.A.\", \"U.K.\", \"U.K.\", \"U.K.\", \"U.K.\", \"U.K.\", \"U.K.\", \"U.K.\", \"U.K.\", \"U.K.\", \"U.K.\", \"U.K.\", \"U.K.\", \"U.K.\", \"U.K.\", \"U.K.\", \"U.K.\", \"U.K.\", \"U.S.A.\", \"U.S.A.\", \"U.S.A.\", \"U.S.A.\", \"U.S.A.\", \"U.S.A.\", \"Australia\", \"Australia\", \"Australia\", \"Australia\", \"Australia\", \"Peru\", \"Peru\", \"U.S.A.\", \"U.S.A.\", \"U.S.A.\", \"U.S.A.\", \"U.S.A.\", \"Wales\", \"U.S.A.\", \"U.S.A.\", \"U.S.A.\", \"U.K.\", \"U.K.\", \"U.S.A.\", \"U.S.A.\", \"U.S.A.\", \"U.S.A.\", \"Belgium\", \"Belgium\", \"Belgium\", \"Belgium\", \"U.S.A.\", \"U.S.A.\", \"U.S.A.\", \"Germany\", \"Germany\", \"Germany\", \"Belgium\", \"Belgium\", \"Belgium\", \"Belgium\", \"Belgium\", \"Belgium\", \"France\", \"Switzerland\", \"Switzerland\", \"Switzerland\", \"Switzerland\", \"Switzerland\", \"Switzerland\", \"Switzerland\", \"Switzerland\", \"U.S.A.\", \"U.S.A.\", \"U.S.A.\", \"U.S.A.\", \"U.S.A.\", \"U.S.A.\", \"U.S.A.\", \"U.S.A.\", \"U.S.A.\", \"U.S.A.\", \"U.S.A.\", \"U.S.A.\", \"U.S.A.\", \"U.S.A.\", \"U.S.A.\", \"U.S.A.\", \"U.S.A.\", \"U.S.A.\", \"U.S.A.\", \"U.S.A.\", \"U.S.A.\", \"U.K.\", \"Spain\", \"Spain\", \"U.S.A.\", \"U.S.A.\", \"U.S.A.\", \"U.S.A.\", \"U.S.A.\", \"U.S.A.\", \"France\", \"France\", \"France\", \"France\", \"France\", \"France\", \"France\", \"France\", \"France\", \"France\", \"France\", \"France\", \"France\", \"France\", \"France\", \"France\", \"France\", \"France\", \"France\", \"France\", \"France\", \"France\", \"France\", \"France\", \"France\", \"France\", \"France\", \"Ecuador\", \"Ecuador\", \"U.S.A.\", \"U.S.A.\", \"U.S.A.\", \"U.S.A.\", \"U.S.A.\", \"U.S.A.\", \"U.S.A.\", \"U.S.A.\", \"U.S.A.\", \"U.S.A.\", \"U.S.A.\", \"U.S.A.\", \"U.S.A.\", \"U.S.A.\", \"U.S.A.\", \"U.S.A.\", \"U.S.A.\", \"U.S.A.\", \"Australia\", \"Australia\", \"Australia\", \"Australia\", \"Russia\", \"U.S.A.\", \"U.S.A.\", \"U.S.A.\", \"U.S.A.\", \"U.S.A.\", \"U.S.A.\", \"Puerto Rico\", \"U.S.A.\", \"U.S.A.\", \"U.S.A.\", \"U.S.A.\", \"France\", \"France\", \"France\", \"France\", \"France\", \"Venezuela\", \"Venezuela\", \"Venezuela\", \"Venezuela\", \"Venezuela\", \"Venezuela\", \"Venezuela\", \"Colombia\", \"Colombia\", \"Colombia\", \"Colombia\", \"Colombia\", \"Colombia\", \"Colombia\", \"U.S.A.\", \"U.S.A.\", \"U.S.A.\", \"U.S.A.\", \"U.S.A.\", \"Spain\", \"Spain\", \"Spain\", \"Spain\", \"Spain\", \"Spain\", \"Spain\", \"Spain\", \"Spain\", \"Japan\", \"Japan\", \"Japan\", \"Peru\", \"Ecuador\", \"Ecuador\", \"Ecuador\", \"Ecuador\", \"Belgium\", \"Belgium\", \"Italy\", \"Italy\", \"Italy\", \"Italy\", \"Italy\", \"Italy\", \"Italy\", \"U.S.A.\", \"U.S.A.\", \"U.S.A.\", \"U.S.A.\", \"U.S.A.\", \"Ecuador\", \"Ecuador\", \"Ecuador\", \"Ecuador\", \"Ecuador\", \"Ecuador\", \"New Zealand\", \"New Zealand\", \"Costa Rica\", \"Costa Rica\", \"Costa Rica\", \"Costa Rica\", \"Costa Rica\", \"Colombia\", \"Colombia\", \"Colombia\", \"Colombia\", \"Colombia\", \"U.S.A.\", \"U.S.A.\", \"U.S.A.\", \"U.S.A.\", \"U.S.A.\", \"U.S.A.\", \"U.S.A.\", \"U.S.A.\", \"U.S.A.\", \"U.S.A.\", \"U.S.A.\", \"U.S.A.\", \"U.S.A.\", \"U.S.A.\", \"U.S.A.\", \"U.S.A.\", \"U.S.A.\", \"U.S.A.\", \"France\", \"Canada\", \"U.S.A.\", \"Ecuador\", \"Ecuador\", \"U.S.A.\", \"France\", \"U.K.\", \"Germany\", \"Germany\", \"South Korea\", \"South Korea\", \"U.K.\", \"U.K.\", \"U.K.\", \"U.S.A.\", \"U.S.A.\", \"U.S.A.\", \"U.S.A.\", \"U.S.A.\", \"U.S.A.\", \"U.S.A.\", \"U.S.A.\", \"U.S.A.\", \"U.S.A.\", \"U.S.A.\", \"U.S.A.\", \"Amsterdam\", \"Amsterdam\", \"Amsterdam\", \"Scotland\", \"Scotland\", \"Scotland\", \"Scotland\", \"Scotland\", \"Scotland\", \"Canada\", \"Japan\", \"Canada\", \"Spain\", \"Spain\", \"Spain\", \"Spain\", \"Spain\", \"Spain\", \"Spain\", \"Spain\", \"U.S.A.\", \"U.S.A.\", \"Canada\", \"Canada\", \"Canada\", \"Canada\", \"Canada\", \"Martinique\", \"Canada\", \"Canada\", \"U.S.A.\", \"U.S.A.\", \"Sao Tome\", \"Sao Tome\", \"Sao Tome\", \"Sao Tome\", \"U.S.A.\", \"U.S.A.\", \"Argentina\", \"Argentina\", \"Argentina\", \"Argentina\", \"Argentina\", \"U.S.A.\", \"U.S.A.\", \"Germany\", \"Germany\", \"Germany\", \"Germany\", \"Germany\", \"Germany\", \"Germany\", \"Germany\", \"Germany\", \"Germany\", \"Germany\", \"Germany\", \"Germany\", \"Germany\", \"Germany\", \"Germany\", \"Germany\", \"Germany\", \"Belgium\", \"Australia\", \"Australia\", \"Australia\", \"Australia\", \"Australia\", \"Australia\", \"Australia\", \"U.S.A.\", \"U.S.A.\", \"Australia\", \"Australia\", \"U.S.A.\", \"U.K.\", \"U.K.\", \"U.K.\", \"U.K.\", \"U.S.A.\", \"U.S.A.\", \"U.S.A.\", \"U.S.A.\", \"U.S.A.\", \"U.S.A.\", \"U.S.A.\", \"U.S.A.\", \"U.S.A.\", \"U.S.A.\", \"U.S.A.\", \"U.S.A.\", \"U.S.A.\", \"U.S.A.\", \"U.S.A.\", \"U.S.A.\", \"Guatemala\", \"Guatemala\", \"Guatemala\", \"Guatemala\", \"Guatemala\", \"Guatemala\", \"Guatemala\", \"Guatemala\", \"Guatemala\", \"U.S.A.\", \"U.S.A.\", \"U.S.A.\", \"U.S.A.\", \"U.S.A.\", \"U.S.A.\", \"U.S.A.\", \"U.S.A.\", \"U.S.A.\", \"U.S.A.\", \"U.S.A.\", \"U.S.A.\", \"Brazil\", \"Brazil\", \"South Africa\", \"South Africa\", \"U.S.A.\", \"U.S.A.\", \"U.S.A.\", \"U.S.A.\", \"U.S.A.\", \"U.S.A.\", \"France\", \"France\", \"Canada\", \"U.S.A.\", \"U.S.A.\", \"U.S.A.\", \"U.S.A.\", \"U.S.A.\", \"U.S.A.\", \"U.S.A.\", \"U.S.A.\", \"U.S.A.\", \"U.S.A.\", \"U.S.A.\", \"U.S.A.\", \"U.S.A.\", \"U.S.A.\", \"U.S.A.\", \"U.S.A.\", \"U.K.\", \"U.K.\", \"U.K.\", \"U.K.\", \"U.S.A.\", \"Belgium\", \"Belgium\", \"Italy\", \"Italy\", \"Italy\", \"Italy\", \"Italy\", \"Italy\", \"Italy\", \"Italy\", \"Italy\", \"Italy\", \"Italy\", \"Italy\", \"Italy\", \"Italy\", \"Italy\", \"Italy\", \"Italy\", \"Italy\", \"Italy\", \"Italy\", \"Italy\", \"Italy\", \"U.K.\", \"U.K.\", \"U.K.\", \"U.K.\", \"U.K.\", \"U.K.\", \"U.K.\", \"U.K.\", \"U.K.\", \"U.K.\", \"U.K.\", \"U.K.\", \"U.K.\", \"U.K.\", \"U.K.\", \"U.K.\", \"U.K.\", \"U.S.A.\", \"France\", \"U.S.A.\", \"U.S.A.\", \"U.S.A.\", \"U.S.A.\", \"U.S.A.\", \"Canada\", \"Canada\", \"Canada\", \"Canada\", \"Canada\", \"U.S.A.\", \"Germany\", \"Bolivia\", \"Bolivia\", \"Venezuela\", \"Venezuela\", \"Venezuela\", \"Venezuela\", \"Venezuela\", \"Venezuela\", \"Venezuela\", \"St. Lucia\", \"St. Lucia\", \"Japan\", \"Japan\", \"U.S.A.\", \"Spain\", \"France\", \"France\", \"France\", \"U.S.A.\", \"U.S.A.\", \"U.S.A.\", \"U.S.A.\", \"U.S.A.\", \"U.S.A.\", \"U.S.A.\", \"U.S.A.\", \"U.S.A.\", \"U.S.A.\", \"U.S.A.\", \"U.S.A.\", \"U.S.A.\", \"U.S.A.\", \"Portugal\", \"Portugal\", \"Portugal\", \"Switzerland\", \"Switzerland\", \"Switzerland\", \"Switzerland\", \"Switzerland\", \"Switzerland\", \"Switzerland\", \"U.S.A.\", \"U.S.A.\", \"U.S.A.\", \"U.S.A.\", \"U.K.\", \"Puerto Rico\", \"Puerto Rico\", \"Singapore\", \"Singapore\", \"Singapore\", \"Venezuela\", \"Venezuela\", \"Venezuela\", \"Venezuela\", \"Belgium\", \"Belgium\", \"Belgium\", \"Belgium\", \"Belgium\", \"U.S.A.\", \"U.S.A.\", \"U.S.A.\", \"U.S.A.\", \"U.S.A.\", \"U.S.A.\", \"U.S.A.\", \"U.S.A.\", \"U.S.A.\", \"U.S.A.\", \"U.S.A.\", \"U.S.A.\", \"U.S.A.\", \"U.S.A.\", \"U.S.A.\", \"U.S.A.\", \"U.S.A.\", \"U.S.A.\", \"U.S.A.\", \"U.S.A.\", \"U.S.A.\", \"U.S.A.\", \"U.S.A.\", \"U.S.A.\", \"U.S.A.\", \"U.S.A.\", \"U.S.A.\", \"U.S.A.\", \"U.S.A.\", \"U.S.A.\", \"U.S.A.\", \"U.S.A.\", \"U.S.A.\", \"U.S.A.\", \"U.S.A.\", \"U.S.A.\", \"Denmark\", \"Denmark\", \"Denmark\", \"Denmark\", \"Denmark\", \"Denmark\", \"Denmark\", \"Denmark\", \"Denmark\", \"Denmark\", \"Denmark\", \"Denmark\", \"Denmark\", \"U.S.A.\", \"U.S.A.\", \"U.S.A.\", \"U.S.A.\", \"U.S.A.\", \"U.S.A.\", \"U.S.A.\", \"U.S.A.\", \"U.S.A.\", \"U.S.A.\", \"Germany\", \"Germany\", \"Germany\", \"Germany\", \"Germany\", \"U.S.A.\", \"U.S.A.\", \"U.S.A.\", \"U.S.A.\", \"U.S.A.\", \"Vietnam\", \"U.K.\", \"Japan\", \"Grenada\", \"Grenada\", \"Grenada\", \"Italy\", \"Italy\", \"Italy\", \"Italy\", \"Italy\", \"U.S.A.\", \"U.S.A.\", \"U.S.A.\", \"U.S.A.\", \"U.S.A.\", \"U.S.A.\", \"U.S.A.\", \"U.S.A.\", \"U.S.A.\", \"U.S.A.\", \"U.S.A.\", \"U.S.A.\", \"U.S.A.\", \"U.S.A.\", \"U.S.A.\", \"U.S.A.\", \"U.S.A.\", \"U.S.A.\", \"U.S.A.\", \"U.S.A.\", \"U.S.A.\", \"U.S.A.\", \"Canada\", \"Canada\", \"Canada\", \"Canada\", \"Canada\", \"Canada\", \"Canada\", \"Canada\", \"Canada\", \"Germany\", \"Ecuador\", \"Ecuador\", \"Australia\", \"U.S.A.\", \"U.S.A.\", \"U.S.A.\", \"U.S.A.\", \"Germany\", \"U.S.A.\", \"U.S.A.\", \"U.S.A.\", \"U.S.A.\", \"U.S.A.\", \"U.S.A.\", \"U.S.A.\", \"U.S.A.\", \"U.S.A.\", \"U.S.A.\", \"U.S.A.\", \"U.S.A.\", \"U.S.A.\", \"U.S.A.\", \"U.S.A.\", \"U.S.A.\", \"U.S.A.\", \"U.S.A.\", \"New Zealand\", \"New Zealand\", \"New Zealand\", \"New Zealand\", \"Ecuador\", \"Ecuador\", \"Ecuador\", \"Ecuador\", \"Ecuador\", \"Israel\", \"Israel\", \"Israel\", \"Israel\", \"Israel\", \"Israel\", \"Israel\", \"Israel\", \"Israel\", \"South Africa\", \"U.K.\", \"U.K.\", \"U.K.\", \"U.K.\", \"U.K.\", \"U.K.\", \"U.K.\", \"U.K.\", \"U.K.\", \"U.K.\", \"U.K.\", \"U.K.\", \"U.K.\", \"U.K.\", \"U.K.\", \"U.K.\", \"U.K.\", \"U.K.\", \"U.K.\", \"U.K.\", \"U.K.\", \"U.K.\", \"Canada\", \"Canada\", \"Canada\", \"Canada\", \"Canada\", \"Canada\", \"Canada\", \"Canada\", \"Switzerland\", \"Switzerland\", \"Switzerland\", \"Switzerland\", \"Switzerland\", \"Switzerland\", \"Switzerland\", \"Switzerland\", \"Switzerland\", \"Switzerland\", \"India\", \"U.S.A.\", \"U.S.A.\", \"U.S.A.\", \"Scotland\", \"Scotland\", \"U.S.A.\", \"U.S.A.\", \"U.S.A.\", \"U.S.A.\", \"U.S.A.\", \"U.S.A.\", \"U.S.A.\", \"Czech Republic\", \"U.S.A.\", \"U.S.A.\", \"U.S.A.\", \"Domincan Republic\", \"Domincan Republic\", \"Domincan Republic\", \"Domincan Republic\", \"Germany\", \"Germany\", \"Ecuador\", \"Ecuador\", \"Ecuador\", \"Ecuador\", \"Ecuador\", \"Ecuador\", \"Ecuador\", \"Ecuador\", \"France\", \"France\", \"U.S.A.\", \"Mexico\", \"U.S.A.\", \"U.S.A.\", \"U.S.A.\", \"U.S.A.\", \"U.S.A.\", \"U.S.A.\", \"U.S.A.\", \"U.S.A.\", \"U.S.A.\", \"U.S.A.\", \"U.S.A.\", \"U.S.A.\", \"U.S.A.\", \"U.S.A.\", \"U.S.A.\", \"U.S.A.\", \"U.S.A.\", \"U.S.A.\", \"U.S.A.\", \"U.S.A.\", \"U.S.A.\", \"U.S.A.\", \"U.S.A.\", \"U.S.A.\", \"U.S.A.\", \"Japan\", \"Japan\", \"Japan\", \"Japan\", \"France\", \"France\", \"France\", \"France\", \"France\", \"France\", \"France\", \"France\", \"France\", \"France\", \"Peru\", \"Ecuador\", \"France\", \"France\", \"France\", \"France\", \"France\", \"France\", \"France\", \"France\", \"France\", \"France\", \"Brazil\", \"U.S.A.\", \"U.S.A.\", \"U.S.A.\", \"U.S.A.\", \"U.S.A.\", \"U.S.A.\", \"U.S.A.\", \"U.S.A.\", \"U.S.A.\", \"U.S.A.\", \"U.S.A.\", \"U.S.A.\", \"U.S.A.\", \"U.S.A.\", \"Finland\", \"Finland\", \"U.S.A.\", \"U.S.A.\", \"U.S.A.\", \"U.S.A.\", \"U.S.A.\", \"U.S.A.\", \"Switzerland\", \"Puerto Rico\", \"U.S.A.\", \"U.S.A.\", \"U.S.A.\", \"U.S.A.\", \"U.S.A.\", \"U.S.A.\", \"U.S.A.\", \"Colombia\", \"Colombia\", \"Colombia\", \"Colombia\", \"Peru\", \"Peru\", \"Madagascar\", \"Madagascar\", \"Madagascar\", \"Madagascar\", \"U.S.A.\", \"U.S.A.\", \"U.S.A.\", \"U.S.A.\", \"U.S.A.\", \"U.S.A.\", \"U.S.A.\", \"U.S.A.\", \"U.S.A.\", \"U.S.A.\", \"U.S.A.\", \"Italy\", \"Italy\", \"Italy\", \"Italy\", \"Italy\", \"Madagascar\", \"Madagascar\", \"Philippines\", \"U.S.A.\", \"U.S.A.\", \"Sweden\", \"U.S.A.\", \"U.S.A.\", \"U.S.A.\", \"U.S.A.\", \"Colombia\", \"U.S.A.\", \"U.S.A.\", \"U.S.A.\", \"U.S.A.\", \"U.S.A.\", \"U.S.A.\", \"U.S.A.\", \"Poland\", \"Poland\", \"Poland\", \"Poland\", \"Poland\", \"Poland\", \"Poland\", \"U.S.A.\", \"U.S.A.\", \"U.S.A.\", \"U.S.A.\", \"U.S.A.\", \"U.S.A.\", \"U.S.A.\", \"U.S.A.\", \"U.S.A.\", \"U.S.A.\", \"Peru\", \"Peru\", \"Peru\", \"Canada\", \"Vietnam\", \"Vietnam\", \"Vietnam\", \"Vietnam\", \"Vietnam\", \"Vietnam\", \"Vietnam\", \"Vietnam\", \"Vietnam\", \"Vietnam\", \"U.S.A.\", \"U.S.A.\", \"U.S.A.\", \"U.S.A.\", \"U.S.A.\", \"U.S.A.\", \"Austria\", \"Austria\", \"Austria\", \"U.S.A.\", \"U.S.A.\", \"U.S.A.\", \"U.S.A.\", \"U.S.A.\", \"U.S.A.\", \"U.S.A.\", \"U.S.A.\", \"U.S.A.\", \"U.S.A.\", \"U.S.A.\", \"U.S.A.\", \"U.S.A.\", \"U.S.A.\", \"U.S.A.\", \"U.S.A.\", \"U.S.A.\", \"U.S.A.\", \"Australia\", \"Australia\", \"Australia\", \"Australia\", \"U.S.A.\", \"U.S.A.\", \"U.S.A.\", \"U.S.A.\", \"U.S.A.\", \"U.S.A.\", \"U.S.A.\", \"U.S.A.\", \"U.S.A.\", \"U.S.A.\", \"Madagascar\", \"Madagascar\", \"Honduras\", \"Honduras\", \"Honduras\", \"Honduras\", \"Honduras\", \"Honduras\", \"Sweden\", \"Sweden\", \"Amsterdam\", \"France\", \"France\", \"France\", \"France\", \"France\", \"France\", \"France\", \"France\", \"France\", \"France\", \"U.S.A.\", \"U.S.A.\", \"U.S.A.\", \"U.S.A.\", \"U.S.A.\", \"U.S.A.\", \"U.S.A.\", \"U.S.A.\", \"U.S.A.\", \"U.S.A.\", \"U.S.A.\", \"U.S.A.\", \"U.S.A.\", \"U.S.A.\", \"U.S.A.\", \"Japan\", \"Brazil\", \"Brazil\", \"Colombia\", \"U.S.A.\", \"U.S.A.\", \"U.S.A.\", \"U.S.A.\", \"U.S.A.\", \"U.S.A.\", \"Nicaragua\", \"Nicaragua\", \"Nicaragua\", \"Canada\", \"Australia\", \"Ecuador\", \"Ecuador\", \"Ecuador\", \"U.S.A.\", \"U.S.A.\", \"U.S.A.\", \"U.S.A.\", \"U.S.A.\", \"U.S.A.\", \"Costa Rica\", \"Costa Rica\", \"Lithuania\", \"Lithuania\", \"Lithuania\", \"Lithuania\", \"Lithuania\", \"Lithuania\", \"U.S.A.\", \"U.S.A.\", \"U.S.A.\", \"U.S.A.\", \"U.S.A.\", \"Belgium\", \"Belgium\", \"Belgium\", \"Belgium\", \"Belgium\", \"Belgium\", \"U.S.A.\", \"U.S.A.\", \"U.S.A.\", \"U.S.A.\", \"U.S.A.\", \"U.S.A.\", \"U.S.A.\", \"U.S.A.\", \"U.S.A.\", \"U.S.A.\", \"U.S.A.\", \"Nicaragua\", \"Niacragua\", \"Nicaragua\", \"U.S.A.\", \"U.S.A.\", \"U.S.A.\", \"U.S.A.\", \"U.S.A.\", \"Brazil\", \"U.S.A.\", \"Chile\", \"Chile\", \"Scotland\", \"Scotland\", \"New Zealand\", \"New Zealand\", \"New Zealand\", \"New Zealand\", \"New Zealand\", \"New Zealand\", \"U.S.A.\", \"U.S.A.\", \"Germany\", \"U.S.A.\", \"U.S.A.\", \"U.S.A.\", \"U.S.A.\", \"Canada\", \"Canada\", \"Canada\", \"Canada\", \"Ghana\", \"Iceland\", \"Iceland\", \"Iceland\", \"Canada\", \"Canada\", \"Canada\", \"Canada\", \"Canada\", \"Switzerland\", \"Switzerland\", \"Switzerland\", \"Switzerland\", \"Switzerland\", \"Switzerland\", \"U.S.A.\", \"U.S.A.\", \"Peru\", \"Peru\", \"Ecuador\", \"Ecuador\", \"Ecuador\", \"Ecuador\", \"Ecuador\", \"Ecuador\", \"Ecuador\", \"Ecuador\", \"Ecuador\", \"Ecuador\", \"Ecuador\", \"Ecuador\", \"Ecuador\", \"Canada\", \"Canada\", \"Canada\", \"Canada\", \"Canada\", \"Canada\", \"Canada\", \"Canada\", \"Canada\", \"Canada\", \"Canada\", \"Spain\", \"U.S.A.\", \"U.S.A.\", \"U.S.A.\", \"U.S.A.\", \"U.S.A.\", \"Peru\", \"Peru\", \"U.S.A.\", \"U.S.A.\", \"U.S.A.\", \"U.S.A.\", \"U.S.A.\", \"U.S.A.\", \"U.K.\", \"U.K.\", \"U.S.A.\", \"Belgium\", \"Belgium\", \"Belgium\", \"Belgium\", \"Belgium\", \"Belgium\", \"Belgium\", \"Belgium\", \"Belgium\", \"Belgium\", \"Belgium\", \"Belgium\", \"Belgium\", \"Belgium\", \"U.S.A.\", \"U.S.A.\", \"U.S.A.\", \"U.S.A.\", \"U.S.A.\", \"U.S.A.\", \"U.S.A.\", \"U.S.A.\", \"U.S.A.\", \"U.S.A.\", \"U.S.A.\", \"U.S.A.\", \"U.S.A.\", \"U.S.A.\", \"U.S.A.\", \"U.S.A.\", \"U.S.A.\", \"U.S.A.\", \"U.S.A.\", \"France\", \"France\", \"France\", \"France\", \"France\", \"France\", \"France\", \"France\", \"France\", \"France\", \"France\", \"France\", \"France\", \"France\", \"France\", \"France\", \"France\", \"France\", \"France\", \"France\", \"France\", \"France\", \"France\", \"France\", \"France\", \"U.K.\", \"U.K.\", \"U.K.\", \"U.K.\", \"U.K.\", \"U.K.\", \"U.K.\", \"U.K.\", \"Italy\", \"Brazil\", \"Brazil\", \"Brazil\", \"Brazil\", \"Brazil\", \"Brazil\", \"Mexico\", \"Mexico\", \"U.S.A.\", \"U.S.A.\", \"U.S.A.\", \"U.S.A.\", \"Guatemala\", \"Eucador\", \"U.S.A.\", \"U.S.A.\", \"U.S.A.\", \"France\", \"Poland\", \"Ecuador\", \"Ecuador\", \"Ecuador\", \"Ecuador\", \"Ecuador\", \"U.S.A.\", \"U.S.A.\", \"U.S.A.\", \"U.S.A.\", \"U.S.A.\", \"U.S.A.\", \"U.S.A.\", \"U.S.A.\", \"U.S.A.\", \"South Korea\", \"South Korea\", \"South Korea\", \"Madagascar\", \"Madagascar\", \"U.K.\", \"U.S.A.\", \"U.S.A.\", \"U.S.A.\", \"U.S.A.\", \"U.S.A.\", \"U.S.A.\", \"U.S.A.\", \"U.S.A.\", \"U.S.A.\", \"U.S.A.\", \"U.S.A.\", \"U.S.A.\", \"U.S.A.\", \"U.S.A.\", \"U.S.A.\", \"U.S.A.\", \"Hungary\", \"Hungary\", \"Hungary\", \"Hungary\", \"Hungary\", \"Hungary\", \"Hungary\", \"Italy\", \"Italy\", \"Italy\", \"Italy\", \"Italy\", \"U.S.A.\", \"U.S.A.\", \"Argentina\", \"Argentina\", \"Argentina\", \"Argentina\", \"Colombia\", \"Colombia\", \"Colombia\", \"Colombia\", \"Colombia\", \"France\", \"U.S.A.\", \"U.S.A.\", \"U.S.A.\", \"U.S.A.\", \"U.S.A.\", \"U.S.A.\", \"U.S.A.\", \"U.S.A.\", \"U.S.A.\", \"U.S.A.\", \"U.S.A.\", \"U.S.A.\", \"U.S.A.\", \"U.S.A.\", \"U.S.A.\", \"U.S.A.\", \"U.S.A.\", \"U.K.\", \"U.K.\", \"U.S.A.\", \"U.S.A.\", \"U.S.A.\", \"U.S.A.\", \"U.S.A.\", \"U.S.A.\", \"U.S.A.\", \"U.S.A.\", \"Peru\", \"Peru\", \"Costa Rica\", \"Costa Rica\", \"U.S.A.\", \"Italy\", \"Italy\", \"Italy\", \"Italy\", \"Canada\", \"Canada\", \"Canada\", \"Canada\", \"Canada\", \"Canada\", \"Canada\", \"Canada\", \"Canada\", \"Canada\", \"Canada\", \"U.S.A.\", \"U.S.A.\", \"Australia\", \"Australia\", \"Australia\", \"Australia\", \"Australia\", \"Australia\", \"Australia\", \"Australia\", \"Australia\", \"Australia\", \"Australia\", \"Australia\", \"Australia\", \"Australia\", \"Australia\", \"Australia\", \"U.S.A.\", \"U.S.A.\", \"U.S.A.\", \"U.S.A.\", \"U.S.A.\", \"U.K.\", \"U.K.\", \"New Zealand\", \"New Zealand\", \"U.S.A.\", \"U.S.A.\", \"U.S.A.\", \"U.S.A.\", \"U.S.A.\", \"U.S.A.\", \"Canada\", \"Canada\", \"Canada\", \"Canada\", \"Canada\", \"Canada\", \"Canada\", \"Canada\", \"Canada\", \"Canada\", \"Canada\", \"Canada\", \"Canada\", \"Canada\", \"Canada\", \"Canada\", \"Canada\", \"Canada\", \"Canada\", \"Canada\", \"Canada\", \"Canada\", \"Canada\", \"Canada\", \"Canada\", \"Canada\", \"Canada\", \"Canada\", \"Canada\", \"Canada\", \"Canada\", \"Canada\", \"Canada\", \"Canada\", \"Canada\", \"Canada\", \"Canada\", \"Canada\", \"Canada\", \"Canada\", \"Canada\", \"Canada\", \"Canada\", \"Canada\", \"Canada\", \"Canada\", \"Canada\", \"U.S.A.\", \"U.S.A.\", \"Canada\", \"Canada\", \"Canada\", \"Canada\", \"Canada\", \"Canada\", \"U.S.A.\", \"U.S.A.\", \"U.S.A.\", \"U.S.A.\", \"U.S.A.\", \"U.S.A.\", \"Australia\", \"Australia\", \"Australia\", \"Australia\", \"Switzerland\", \"U.S.A.\", \"U.S.A.\", \"U.S.A.\", \"U.S.A.\", \"U.S.A.\", \"U.S.A.\", \"U.S.A.\", \"Switzerland\", \"Switzerland\", \"U.S.A.\", \"U.S.A.\", \"U.S.A.\", \"U.S.A.\", \"U.S.A.\", \"U.S.A.\", \"U.S.A.\", \"Denmark\", \"Denmark\", \"Venezuela\", \"Venezuela\", \"Sweden\", \"Hungary\", \"Hungary\", \"Hungary\", \"Hungary\", \"Hungary\", \"Hungary\", \"Hungary\", \"Hungary\", \"Hungary\", \"Hungary\", \"Hungary\", \"Hungary\", \"Hungary\", \"Hungary\", \"Hungary\", \"U.S.A.\", \"U.S.A.\", \"U.S.A.\", \"U.S.A.\", \"Japan\", \"Japan\", \"Japan\", \"Japan\", \"Suriname\", \"U.S.A.\", \"U.S.A.\", \"U.S.A.\", \"U.S.A.\", \"U.S.A.\", \"U.S.A.\", \"U.S.A.\", \"U.S.A.\", \"U.S.A.\", \"U.S.A.\", \"U.S.A.\", \"U.S.A.\", \"U.S.A.\", \"U.S.A.\", \"U.S.A.\", \"U.S.A.\", \"U.S.A.\", \"U.S.A.\", \"U.S.A.\", \"U.S.A.\", \"U.S.A.\", \"U.S.A.\", \"U.S.A.\", \"U.S.A.\", \"U.S.A.\", \"U.S.A.\", \"U.S.A.\", \"U.S.A.\", \"U.S.A.\", \"U.S.A.\", \"U.S.A.\", \"U.S.A.\", \"U.S.A.\", \"U.S.A.\", \"U.S.A.\", \"Sweden\", \"U.S.A.\", \"U.S.A.\", \"U.S.A.\", \"U.S.A.\", \"U.S.A.\", \"U.S.A.\", \"Japan\", \"Germany\", \"Ecuador\", \"France\", \"U.S.A.\", \"U.S.A.\", \"U.S.A.\", \"U.S.A.\", \"Madagascar\", \"U.S.A.\", \"U.S.A.\", \"U.S.A.\", \"U.S.A.\", \"U.S.A.\", \"U.S.A.\", \"U.S.A.\", \"France\", \"U.S.A.\", \"U.S.A.\", \"U.S.A.\", \"U.S.A.\", \"Italy\", \"France\", \"France\", \"France\", \"France\", \"France\", \"France\", \"France\", \"France\", \"France\", \"France\", \"France\", \"France\", \"France\", \"France\", \"France\", \"France\", \"France\", \"France\", \"France\", \"France\", \"France\", \"U.S.A.\", \"U.S.A.\", \"Madagascar\", \"Madagascar\", \"Madagascar\", \"Madagascar\", \"Madagascar\", \"Madagascar\", \"U.S.A.\", \"U.S.A.\", \"U.S.A.\", \"U.S.A.\", \"U.S.A.\", \"U.S.A.\", \"U.S.A.\", \"France\", \"U.S.A.\", \"U.S.A.\", \"U.S.A.\", \"U.S.A.\", \"U.S.A.\", \"U.S.A.\", \"U.S.A.\", \"U.S.A.\", \"U.S.A.\", \"U.S.A.\", \"U.S.A.\", \"U.S.A.\", \"U.S.A.\", \"New Zealand\", \"New Zealand\", \"New Zealand\", \"Ireland\", \"Ireland\", \"Ireland\", \"Ireland\", \"U.K.\", \"U.K.\", \"U.K.\", \"U.K.\", \"U.K.\", \"U.K.\", \"U.K.\", \"U.K.\", \"U.S.A.\", \"U.S.A.\", \"U.S.A.\", \"U.S.A.\", \"U.S.A.\", \"U.S.A.\", \"U.S.A.\", \"U.S.A.\", \"U.S.A.\", \"U.S.A.\", \"U.S.A.\", \"Domincan Republic\", \"U.S.A.\", \"U.S.A.\", \"U.S.A.\", \"U.S.A.\", \"U.S.A.\", \"U.S.A.\", \"U.S.A.\", \"U.S.A.\", \"Austria\", \"Austria\", \"Austria\", \"Austria\", \"Austria\", \"Austria\", \"Australia\", \"Australia\", \"Australia\", \"Australia\", \"Australia\", \"Austria\", \"Austria\", \"Austria\", \"Austria\", \"Austria\", \"Austria\", \"Austria\", \"Austria\", \"Austria\", \"Austria\", \"Austria\", \"Austria\", \"Austria\", \"Austria\", \"Austria\", \"Austria\", \"Austria\"], \"xaxis\": \"x\", \"yaxis\": \"y\"}],\n",
              "                        {\"barmode\": \"relative\", \"legend\": {\"tracegroupgap\": 0}, \"template\": {\"data\": {\"bar\": [{\"error_x\": {\"color\": \"#2a3f5f\"}, \"error_y\": {\"color\": \"#2a3f5f\"}, \"marker\": {\"line\": {\"color\": \"#E5ECF6\", \"width\": 0.5}}, \"type\": \"bar\"}], \"barpolar\": [{\"marker\": {\"line\": {\"color\": \"#E5ECF6\", \"width\": 0.5}}, \"type\": \"barpolar\"}], \"carpet\": [{\"aaxis\": {\"endlinecolor\": \"#2a3f5f\", \"gridcolor\": \"white\", \"linecolor\": \"white\", \"minorgridcolor\": \"white\", \"startlinecolor\": \"#2a3f5f\"}, \"baxis\": {\"endlinecolor\": \"#2a3f5f\", \"gridcolor\": \"white\", \"linecolor\": \"white\", \"minorgridcolor\": \"white\", \"startlinecolor\": \"#2a3f5f\"}, \"type\": \"carpet\"}], \"choropleth\": [{\"colorbar\": {\"outlinewidth\": 0, \"ticks\": \"\"}, \"type\": \"choropleth\"}], \"contour\": [{\"colorbar\": {\"outlinewidth\": 0, \"ticks\": \"\"}, \"colorscale\": [[0.0, \"#0d0887\"], [0.1111111111111111, \"#46039f\"], [0.2222222222222222, \"#7201a8\"], [0.3333333333333333, \"#9c179e\"], [0.4444444444444444, \"#bd3786\"], [0.5555555555555556, \"#d8576b\"], [0.6666666666666666, \"#ed7953\"], [0.7777777777777778, \"#fb9f3a\"], [0.8888888888888888, \"#fdca26\"], [1.0, \"#f0f921\"]], \"type\": \"contour\"}], \"contourcarpet\": [{\"colorbar\": {\"outlinewidth\": 0, \"ticks\": \"\"}, \"type\": \"contourcarpet\"}], \"heatmap\": [{\"colorbar\": {\"outlinewidth\": 0, \"ticks\": \"\"}, \"colorscale\": [[0.0, \"#0d0887\"], [0.1111111111111111, \"#46039f\"], [0.2222222222222222, \"#7201a8\"], [0.3333333333333333, \"#9c179e\"], [0.4444444444444444, \"#bd3786\"], [0.5555555555555556, \"#d8576b\"], [0.6666666666666666, \"#ed7953\"], [0.7777777777777778, \"#fb9f3a\"], [0.8888888888888888, \"#fdca26\"], [1.0, \"#f0f921\"]], \"type\": \"heatmap\"}], \"heatmapgl\": [{\"colorbar\": {\"outlinewidth\": 0, \"ticks\": \"\"}, \"colorscale\": [[0.0, \"#0d0887\"], [0.1111111111111111, \"#46039f\"], [0.2222222222222222, \"#7201a8\"], [0.3333333333333333, \"#9c179e\"], [0.4444444444444444, \"#bd3786\"], [0.5555555555555556, \"#d8576b\"], [0.6666666666666666, \"#ed7953\"], [0.7777777777777778, \"#fb9f3a\"], [0.8888888888888888, \"#fdca26\"], [1.0, \"#f0f921\"]], \"type\": \"heatmapgl\"}], \"histogram\": [{\"marker\": {\"colorbar\": {\"outlinewidth\": 0, \"ticks\": \"\"}}, \"type\": \"histogram\"}], \"histogram2d\": [{\"colorbar\": {\"outlinewidth\": 0, \"ticks\": \"\"}, \"colorscale\": [[0.0, \"#0d0887\"], [0.1111111111111111, \"#46039f\"], [0.2222222222222222, \"#7201a8\"], [0.3333333333333333, \"#9c179e\"], [0.4444444444444444, \"#bd3786\"], [0.5555555555555556, \"#d8576b\"], [0.6666666666666666, \"#ed7953\"], [0.7777777777777778, \"#fb9f3a\"], [0.8888888888888888, \"#fdca26\"], [1.0, \"#f0f921\"]], \"type\": \"histogram2d\"}], \"histogram2dcontour\": [{\"colorbar\": {\"outlinewidth\": 0, \"ticks\": \"\"}, \"colorscale\": [[0.0, \"#0d0887\"], [0.1111111111111111, \"#46039f\"], [0.2222222222222222, \"#7201a8\"], [0.3333333333333333, \"#9c179e\"], [0.4444444444444444, \"#bd3786\"], [0.5555555555555556, \"#d8576b\"], [0.6666666666666666, \"#ed7953\"], [0.7777777777777778, \"#fb9f3a\"], [0.8888888888888888, \"#fdca26\"], [1.0, \"#f0f921\"]], \"type\": \"histogram2dcontour\"}], \"mesh3d\": [{\"colorbar\": {\"outlinewidth\": 0, \"ticks\": \"\"}, \"type\": \"mesh3d\"}], \"parcoords\": [{\"line\": {\"colorbar\": {\"outlinewidth\": 0, \"ticks\": \"\"}}, \"type\": \"parcoords\"}], \"pie\": [{\"automargin\": true, \"type\": \"pie\"}], \"scatter\": [{\"marker\": {\"colorbar\": {\"outlinewidth\": 0, \"ticks\": \"\"}}, \"type\": \"scatter\"}], \"scatter3d\": [{\"line\": {\"colorbar\": {\"outlinewidth\": 0, \"ticks\": \"\"}}, \"marker\": {\"colorbar\": {\"outlinewidth\": 0, \"ticks\": \"\"}}, \"type\": \"scatter3d\"}], \"scattercarpet\": [{\"marker\": {\"colorbar\": {\"outlinewidth\": 0, \"ticks\": \"\"}}, \"type\": \"scattercarpet\"}], \"scattergeo\": [{\"marker\": {\"colorbar\": {\"outlinewidth\": 0, \"ticks\": \"\"}}, \"type\": \"scattergeo\"}], \"scattergl\": [{\"marker\": {\"colorbar\": {\"outlinewidth\": 0, \"ticks\": \"\"}}, \"type\": \"scattergl\"}], \"scattermapbox\": [{\"marker\": {\"colorbar\": {\"outlinewidth\": 0, \"ticks\": \"\"}}, \"type\": \"scattermapbox\"}], \"scatterpolar\": [{\"marker\": {\"colorbar\": {\"outlinewidth\": 0, \"ticks\": \"\"}}, \"type\": \"scatterpolar\"}], \"scatterpolargl\": [{\"marker\": {\"colorbar\": {\"outlinewidth\": 0, \"ticks\": \"\"}}, \"type\": \"scatterpolargl\"}], \"scatterternary\": [{\"marker\": {\"colorbar\": {\"outlinewidth\": 0, \"ticks\": \"\"}}, \"type\": \"scatterternary\"}], \"surface\": [{\"colorbar\": {\"outlinewidth\": 0, \"ticks\": \"\"}, \"colorscale\": [[0.0, \"#0d0887\"], [0.1111111111111111, \"#46039f\"], [0.2222222222222222, \"#7201a8\"], [0.3333333333333333, \"#9c179e\"], [0.4444444444444444, \"#bd3786\"], [0.5555555555555556, \"#d8576b\"], [0.6666666666666666, \"#ed7953\"], [0.7777777777777778, \"#fb9f3a\"], [0.8888888888888888, \"#fdca26\"], [1.0, \"#f0f921\"]], \"type\": \"surface\"}], \"table\": [{\"cells\": {\"fill\": {\"color\": \"#EBF0F8\"}, \"line\": {\"color\": \"white\"}}, \"header\": {\"fill\": {\"color\": \"#C8D4E3\"}, \"line\": {\"color\": \"white\"}}, \"type\": \"table\"}]}, \"layout\": {\"annotationdefaults\": {\"arrowcolor\": \"#2a3f5f\", \"arrowhead\": 0, \"arrowwidth\": 1}, \"coloraxis\": {\"colorbar\": {\"outlinewidth\": 0, \"ticks\": \"\"}}, \"colorscale\": {\"diverging\": [[0, \"#8e0152\"], [0.1, \"#c51b7d\"], [0.2, \"#de77ae\"], [0.3, \"#f1b6da\"], [0.4, \"#fde0ef\"], [0.5, \"#f7f7f7\"], [0.6, \"#e6f5d0\"], [0.7, \"#b8e186\"], [0.8, \"#7fbc41\"], [0.9, \"#4d9221\"], [1, \"#276419\"]], \"sequential\": [[0.0, \"#0d0887\"], [0.1111111111111111, \"#46039f\"], [0.2222222222222222, \"#7201a8\"], [0.3333333333333333, \"#9c179e\"], [0.4444444444444444, \"#bd3786\"], [0.5555555555555556, \"#d8576b\"], [0.6666666666666666, \"#ed7953\"], [0.7777777777777778, \"#fb9f3a\"], [0.8888888888888888, \"#fdca26\"], [1.0, \"#f0f921\"]], \"sequentialminus\": [[0.0, \"#0d0887\"], [0.1111111111111111, \"#46039f\"], [0.2222222222222222, \"#7201a8\"], [0.3333333333333333, \"#9c179e\"], [0.4444444444444444, \"#bd3786\"], [0.5555555555555556, \"#d8576b\"], [0.6666666666666666, \"#ed7953\"], [0.7777777777777778, \"#fb9f3a\"], [0.8888888888888888, \"#fdca26\"], [1.0, \"#f0f921\"]]}, \"colorway\": [\"#636efa\", \"#EF553B\", \"#00cc96\", \"#ab63fa\", \"#FFA15A\", \"#19d3f3\", \"#FF6692\", \"#B6E880\", \"#FF97FF\", \"#FECB52\"], \"font\": {\"color\": \"#2a3f5f\"}, \"geo\": {\"bgcolor\": \"white\", \"lakecolor\": \"white\", \"landcolor\": \"#E5ECF6\", \"showlakes\": true, \"showland\": true, \"subunitcolor\": \"white\"}, \"hoverlabel\": {\"align\": \"left\"}, \"hovermode\": \"closest\", \"mapbox\": {\"style\": \"light\"}, \"paper_bgcolor\": \"white\", \"plot_bgcolor\": \"#E5ECF6\", \"polar\": {\"angularaxis\": {\"gridcolor\": \"white\", \"linecolor\": \"white\", \"ticks\": \"\"}, \"bgcolor\": \"#E5ECF6\", \"radialaxis\": {\"gridcolor\": \"white\", \"linecolor\": \"white\", \"ticks\": \"\"}}, \"scene\": {\"xaxis\": {\"backgroundcolor\": \"#E5ECF6\", \"gridcolor\": \"white\", \"gridwidth\": 2, \"linecolor\": \"white\", \"showbackground\": true, \"ticks\": \"\", \"zerolinecolor\": \"white\"}, \"yaxis\": {\"backgroundcolor\": \"#E5ECF6\", \"gridcolor\": \"white\", \"gridwidth\": 2, \"linecolor\": \"white\", \"showbackground\": true, \"ticks\": \"\", \"zerolinecolor\": \"white\"}, \"zaxis\": {\"backgroundcolor\": \"#E5ECF6\", \"gridcolor\": \"white\", \"gridwidth\": 2, \"linecolor\": \"white\", \"showbackground\": true, \"ticks\": \"\", \"zerolinecolor\": \"white\"}}, \"shapedefaults\": {\"line\": {\"color\": \"#2a3f5f\"}}, \"ternary\": {\"aaxis\": {\"gridcolor\": \"white\", \"linecolor\": \"white\", \"ticks\": \"\"}, \"baxis\": {\"gridcolor\": \"white\", \"linecolor\": \"white\", \"ticks\": \"\"}, \"bgcolor\": \"#E5ECF6\", \"caxis\": {\"gridcolor\": \"white\", \"linecolor\": \"white\", \"ticks\": \"\"}}, \"title\": {\"x\": 0.05}, \"xaxis\": {\"automargin\": true, \"gridcolor\": \"white\", \"linecolor\": \"white\", \"ticks\": \"\", \"title\": {\"standoff\": 15}, \"zerolinecolor\": \"white\", \"zerolinewidth\": 2}, \"yaxis\": {\"automargin\": true, \"gridcolor\": \"white\", \"linecolor\": \"white\", \"ticks\": \"\", \"title\": {\"standoff\": 15}, \"zerolinecolor\": \"white\", \"zerolinewidth\": 2}}}, \"title\": {\"text\": \"Country Location of Companies\"}, \"xaxis\": {\"anchor\": \"y\", \"domain\": [0.0, 1.0], \"title\": {\"text\": \"x\"}}, \"yaxis\": {\"anchor\": \"x\", \"domain\": [0.0, 1.0], \"title\": {\"text\": \"count\"}}},\n",
              "                        {\"responsive\": true}\n",
              "                    ).then(function(){\n",
              "                            \n",
              "var gd = document.getElementById('d51e23d9-1b7d-4330-95e7-9ec3529518b2');\n",
              "var x = new MutationObserver(function (mutations, observer) {{\n",
              "        var display = window.getComputedStyle(gd).display;\n",
              "        if (!display || display === 'none') {{\n",
              "            console.log([gd, 'removed!']);\n",
              "            Plotly.purge(gd);\n",
              "            observer.disconnect();\n",
              "        }}\n",
              "}});\n",
              "\n",
              "// Listen for the removal of the full notebook cells\n",
              "var notebookContainer = gd.closest('#notebook-container');\n",
              "if (notebookContainer) {{\n",
              "    x.observe(notebookContainer, {childList: true});\n",
              "}}\n",
              "\n",
              "// Listen for the clearing of the current output cell\n",
              "var outputEl = gd.closest('.output');\n",
              "if (outputEl) {{\n",
              "    x.observe(outputEl, {childList: true});\n",
              "}}\n",
              "\n",
              "                        })\n",
              "                };\n",
              "                \n",
              "            </script>\n",
              "        </div>\n",
              "</body>\n",
              "</html>"
            ]
          },
          "metadata": {
            "tags": []
          }
        }
      ]
    },
    {
      "cell_type": "markdown",
      "metadata": {
        "id": "-CO2pLCxGcxF"
      },
      "source": [
        "Splitting the dataset into two groups to compare ratings. Companies located in the United States, and those that are not. "
      ]
    },
    {
      "cell_type": "code",
      "metadata": {
        "id": "qG5K_fC11jQG"
      },
      "source": [
        "usa_company_df = choc_review_df.loc[choc_review_df[\"company_location\"]== \"U.S.A.\"]\n",
        "n_usa_company_df = choc_review_df.loc[choc_review_df[\"company_location\"] != \"U.S.A.\"]"
      ],
      "execution_count": 31,
      "outputs": []
    },
    {
      "cell_type": "code",
      "metadata": {
        "colab": {
          "base_uri": "https://localhost:8080/"
        },
        "id": "CmKXzcH_19wW",
        "outputId": "06818b83-9c6c-45e5-b801-2216d49e1581"
      },
      "source": [
        "usa_company_df.info()"
      ],
      "execution_count": 32,
      "outputs": [
        {
          "output_type": "stream",
          "text": [
            "<class 'pandas.core.frame.DataFrame'>\n",
            "Int64Index: 764 entries, 23 to 1766\n",
            "Data columns (total 9 columns):\n",
            " #   Column            Non-Null Count  Dtype  \n",
            "---  ------            --------------  -----  \n",
            " 0   company           764 non-null    object \n",
            " 1   bean_origin       764 non-null    object \n",
            " 2   review_n          764 non-null    int64  \n",
            " 3   review_year       764 non-null    int64  \n",
            " 4   cocoa_perc        764 non-null    float64\n",
            " 5   company_location  764 non-null    object \n",
            " 6   rating            764 non-null    float64\n",
            " 7   bean_type         764 non-null    object \n",
            " 8   bean_origin_c     763 non-null    object \n",
            "dtypes: float64(2), int64(2), object(5)\n",
            "memory usage: 59.7+ KB\n"
          ],
          "name": "stdout"
        }
      ]
    },
    {
      "cell_type": "code",
      "metadata": {
        "colab": {
          "base_uri": "https://localhost:8080/"
        },
        "id": "uTJFuTJO3Q_w",
        "outputId": "e8f6821b-b463-407e-8e0e-542377f83321"
      },
      "source": [
        "stats.ttest_ind(american_beans_df[\"rating\"], n_usa_company_df[\"rating\"])"
      ],
      "execution_count": 33,
      "outputs": [
        {
          "output_type": "execute_result",
          "data": {
            "text/plain": [
              "Ttest_indResult(statistic=-1.0619818316069929, pvalue=0.2883614024417893)"
            ]
          },
          "metadata": {
            "tags": []
          },
          "execution_count": 33
        }
      ]
    },
    {
      "cell_type": "markdown",
      "metadata": {
        "id": "3TtmPJkuGwU-"
      },
      "source": [
        "With seven-hundred and sixty four data points in the U.S.A group.  One-thousand thirty four entries in the non-U.S.A. group it meets the criteria for testing. After testing there is **no significant difference** in the ratings."
      ]
    },
    {
      "cell_type": "code",
      "metadata": {
        "colab": {
          "base_uri": "https://localhost:8080/",
          "height": 392
        },
        "id": "MpNaMmzD6vVT",
        "outputId": "f1e9accb-4ca7-4423-be6e-a8526f7cb458"
      },
      "source": [
        "fig, axes = plt.subplots(1,2, figsize = (15,5), sharey= True)\n",
        "fig.suptitle('Comparison Of Scores U.S.A. vs World')\n",
        "\n",
        "sns.boxplot(ax=axes[0], x= usa_company_df[\"rating\"]).set_title(\"U.S.A.\")\n",
        "sns.boxplot(ax=axes[1], x= n_usa_company_df[\"rating\"]).set_title(\"World\")"
      ],
      "execution_count": 34,
      "outputs": [
        {
          "output_type": "execute_result",
          "data": {
            "text/plain": [
              "Text(0.5, 1.0, 'World')"
            ]
          },
          "metadata": {
            "tags": []
          },
          "execution_count": 34
        },
        {
          "output_type": "display_data",
          "data": {
            "image/png": "[encoded data removed]",
            "text/plain": [
              "<Figure size 1080x360 with 2 Axes>"
            ]
          },
          "metadata": {
            "tags": []
          }
        }
      ]
    },
    {
      "cell_type": "markdown",
      "metadata": {
        "id": "hBZVXkpzHXoJ"
      },
      "source": [
        "Even though the World scores have a much tighter grouping of scores. The United States and the World both have a median score between 3 & 3.5. With the world having more outliers on both side. Showing that there is no major difference in the ratings.  "
      ]
    },
    {
      "cell_type": "markdown",
      "metadata": {
        "id": "jxBAX8icH8hU"
      },
      "source": [
        "# Chocolate Bar Analysis Conclusion"
      ]
    },
    {
      "cell_type": "markdown",
      "metadata": {
        "id": "PQ_ycYFvIDGO"
      },
      "source": [
        "Chocolate bars rate on subjectivity from the flavor, to the texture, an after melt taste. From this analysis we did learn a few things. First the Trinitario bean and a bar with a cocoa percentage of 70% can affect the rating of a chocolate bar. While learning these things we also learned things that had no affect. Such as the region of growing a bean, and if the company was in the United States."
      ]
    },
    {
      "cell_type": "markdown",
      "metadata": {
        "id": "I6XnOMOQJGmU"
      },
      "source": [
        "### Use Cases\n",
        "There are a few use cases which may use this data. Entrepreneurs looking to start the next great chocolate bar company. Retail stores looking to put great tasting bars on their shelfs. "
      ]
    }
  ]
}