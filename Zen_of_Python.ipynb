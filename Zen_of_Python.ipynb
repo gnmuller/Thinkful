{
  "nbformat": 4,
  "nbformat_minor": 0,
  "metadata": {
    "colab": {
      "name": "Zen of Python.ipynb",
      "provenance": [],
      "authorship_tag": "ABX9TyMwd66467xCLbWaDRkYZ+Bj",
      "include_colab_link": true
    },
    "kernelspec": {
      "name": "python3",
      "display_name": "Python 3"
    },
    "language_info": {
      "name": "python"
    }
  },
  "cells": [
    {
      "cell_type": "markdown",
      "metadata": {
        "id": "view-in-github",
        "colab_type": "text"
      },
      "source": [
        "<a href=\"https://colab.research.google.com/github/gnmuller/Thinkful/blob/main/Zen_of_Python.ipynb\" target=\"_parent\"><img src=\"https://colab.research.google.com/assets/colab-badge.svg\" alt=\"Open In Colab\"/></a>"
      ]
    },
    {
      "cell_type": "markdown",
      "metadata": {
        "id": "cM5bVBQko7X8"
      },
      "source": [
        "# Zen of Python"
      ]
    },
    {
      "cell_type": "markdown",
      "metadata": {
        "id": "WPKSYKbgpUuY"
      },
      "source": [
        "### *By Tim peters*"
      ]
    },
    {
      "cell_type": "code",
      "metadata": {
        "id": "6A9b5TNYoO32"
      },
      "source": [
        "import this\n"
      ],
      "execution_count": null,
      "outputs": []
    },
    {
      "cell_type": "code",
      "metadata": {
        "id": "_t-b2rVDoa3Q"
      },
      "source": [
        "import this"
      ],
      "execution_count": null,
      "outputs": []
    },
    {
      "cell_type": "code",
      "metadata": {
        "colab": {
          "base_uri": "https://localhost:8080/"
        },
        "id": "iQZYYwlRosYQ",
        "outputId": "adc2f162-e912-464e-f281-fbf1759b9cae"
      },
      "source": [
        "print(\"Hello World\")"
      ],
      "execution_count": null,
      "outputs": [
        {
          "output_type": "stream",
          "text": [
            "Hello World\n"
          ],
          "name": "stdout"
        }
      ]
    },
    {
      "cell_type": "code",
      "metadata": {
        "id": "Pq0wh8G0poup"
      },
      "source": [
        ""
      ],
      "execution_count": null,
      "outputs": []
    }
  ]
}